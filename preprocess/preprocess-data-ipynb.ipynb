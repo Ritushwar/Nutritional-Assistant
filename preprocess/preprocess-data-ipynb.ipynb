{
 "cells": [
  {
   "cell_type": "code",
   "execution_count": 151,
   "metadata": {},
   "outputs": [],
   "source": [
    "import pandas as pd\n",
    "import numpy as np"
   ]
  },
  {
   "cell_type": "code",
   "execution_count": 152,
   "metadata": {
    "execution": {
     "iopub.execute_input": "2024-12-28T06:57:59.564662Z",
     "iopub.status.busy": "2024-12-28T06:57:59.564072Z",
     "iopub.status.idle": "2024-12-28T06:57:59.602133Z",
     "shell.execute_reply": "2024-12-28T06:57:59.600920Z",
     "shell.execute_reply.started": "2024-12-28T06:57:59.564630Z"
    },
    "trusted": true
   },
   "outputs": [
    {
     "data": {
      "text/html": [
       "<div>\n",
       "<style scoped>\n",
       "    .dataframe tbody tr th:only-of-type {\n",
       "        vertical-align: middle;\n",
       "    }\n",
       "\n",
       "    .dataframe tbody tr th {\n",
       "        vertical-align: top;\n",
       "    }\n",
       "\n",
       "    .dataframe thead th {\n",
       "        text-align: right;\n",
       "    }\n",
       "</style>\n",
       "<table border=\"1\" class=\"dataframe\">\n",
       "  <thead>\n",
       "    <tr style=\"text-align: right;\">\n",
       "      <th></th>\n",
       "      <th>ingr</th>\n",
       "      <th>id</th>\n",
       "      <th>cal/g</th>\n",
       "      <th>fat(g)</th>\n",
       "      <th>carb(g)</th>\n",
       "      <th>protein(g)</th>\n",
       "    </tr>\n",
       "  </thead>\n",
       "  <tbody>\n",
       "    <tr>\n",
       "      <th>0</th>\n",
       "      <td>cottage cheese</td>\n",
       "      <td>1</td>\n",
       "      <td>0.980</td>\n",
       "      <td>0.043</td>\n",
       "      <td>0.034</td>\n",
       "      <td>0.110</td>\n",
       "    </tr>\n",
       "    <tr>\n",
       "      <th>1</th>\n",
       "      <td>strawberries</td>\n",
       "      <td>2</td>\n",
       "      <td>0.330</td>\n",
       "      <td>0.003</td>\n",
       "      <td>0.080</td>\n",
       "      <td>0.007</td>\n",
       "    </tr>\n",
       "    <tr>\n",
       "      <th>2</th>\n",
       "      <td>garden salad</td>\n",
       "      <td>3</td>\n",
       "      <td>0.646</td>\n",
       "      <td>0.034</td>\n",
       "      <td>0.032</td>\n",
       "      <td>0.061</td>\n",
       "    </tr>\n",
       "    <tr>\n",
       "      <th>3</th>\n",
       "      <td>bacon</td>\n",
       "      <td>4</td>\n",
       "      <td>5.410</td>\n",
       "      <td>0.420</td>\n",
       "      <td>0.014</td>\n",
       "      <td>0.370</td>\n",
       "    </tr>\n",
       "    <tr>\n",
       "      <th>4</th>\n",
       "      <td>potatoes</td>\n",
       "      <td>5</td>\n",
       "      <td>0.770</td>\n",
       "      <td>0.001</td>\n",
       "      <td>0.170</td>\n",
       "      <td>0.020</td>\n",
       "    </tr>\n",
       "    <tr>\n",
       "      <th>5</th>\n",
       "      <td>caesar salad</td>\n",
       "      <td>6</td>\n",
       "      <td>0.440</td>\n",
       "      <td>0.021</td>\n",
       "      <td>0.043</td>\n",
       "      <td>0.032</td>\n",
       "    </tr>\n",
       "    <tr>\n",
       "      <th>6</th>\n",
       "      <td>cauliflower</td>\n",
       "      <td>7</td>\n",
       "      <td>0.250</td>\n",
       "      <td>0.003</td>\n",
       "      <td>0.050</td>\n",
       "      <td>0.018</td>\n",
       "    </tr>\n",
       "    <tr>\n",
       "      <th>7</th>\n",
       "      <td>scrambled eggs</td>\n",
       "      <td>8</td>\n",
       "      <td>1.480</td>\n",
       "      <td>0.110</td>\n",
       "      <td>0.016</td>\n",
       "      <td>0.100</td>\n",
       "    </tr>\n",
       "    <tr>\n",
       "      <th>8</th>\n",
       "      <td>wild rice</td>\n",
       "      <td>9</td>\n",
       "      <td>1.190</td>\n",
       "      <td>0.004</td>\n",
       "      <td>0.250</td>\n",
       "      <td>0.050</td>\n",
       "    </tr>\n",
       "    <tr>\n",
       "      <th>9</th>\n",
       "      <td>steak</td>\n",
       "      <td>10</td>\n",
       "      <td>2.710</td>\n",
       "      <td>0.190</td>\n",
       "      <td>0.000</td>\n",
       "      <td>0.250</td>\n",
       "    </tr>\n",
       "  </tbody>\n",
       "</table>\n",
       "</div>"
      ],
      "text/plain": [
       "             ingr  id  cal/g  fat(g)  carb(g)  protein(g)\n",
       "0  cottage cheese   1  0.980   0.043    0.034       0.110\n",
       "1    strawberries   2  0.330   0.003    0.080       0.007\n",
       "2    garden salad   3  0.646   0.034    0.032       0.061\n",
       "3           bacon   4  5.410   0.420    0.014       0.370\n",
       "4        potatoes   5  0.770   0.001    0.170       0.020\n",
       "5    caesar salad   6  0.440   0.021    0.043       0.032\n",
       "6     cauliflower   7  0.250   0.003    0.050       0.018\n",
       "7  scrambled eggs   8  1.480   0.110    0.016       0.100\n",
       "8       wild rice   9  1.190   0.004    0.250       0.050\n",
       "9           steak  10  2.710   0.190    0.000       0.250"
      ]
     },
     "execution_count": 152,
     "metadata": {},
     "output_type": "execute_result"
    }
   ],
   "source": [
    "df1 = pd.read_csv(\"ingredients_metadata.csv\")\n",
    "df1.head(10)"
   ]
  },
  {
   "cell_type": "code",
   "execution_count": 153,
   "metadata": {
    "execution": {
     "iopub.execute_input": "2024-12-28T06:58:05.924295Z",
     "iopub.status.busy": "2024-12-28T06:58:05.923970Z",
     "iopub.status.idle": "2024-12-28T06:58:05.930286Z",
     "shell.execute_reply": "2024-12-28T06:58:05.928898Z",
     "shell.execute_reply.started": "2024-12-28T06:58:05.924271Z"
    },
    "trusted": true
   },
   "outputs": [],
   "source": [
    "def split_data(row):   # input must me single row\n",
    "    macro_data = row[:6]  # first six belongs to macro data\n",
    "    ingr_data = row[6:]  # after that belongs to ingr data\n",
    "    ingr_data = [ingr_data[i:i+7] for i in range(0, len(ingr_data), 7)]   # include from 0 to 6\n",
    "    return macro_data, ingr_data"
   ]
  },
  {
   "cell_type": "code",
   "execution_count": 154,
   "metadata": {
    "execution": {
     "iopub.execute_input": "2024-12-28T06:58:09.299904Z",
     "iopub.status.busy": "2024-12-28T06:58:09.299457Z",
     "iopub.status.idle": "2024-12-28T06:58:09.305940Z",
     "shell.execute_reply": "2024-12-28T06:58:09.304207Z",
     "shell.execute_reply.started": "2024-12-28T06:58:09.299874Z"
    },
    "trusted": true
   },
   "outputs": [],
   "source": [
    "def get_names(ingr_data):  # input must be row of single dish\n",
    "    return [item[1] for item in ingr_data]  # item[1] refers to name"
   ]
  },
  {
   "cell_type": "code",
   "execution_count": 155,
   "metadata": {
    "execution": {
     "iopub.execute_input": "2024-12-28T06:58:13.630644Z",
     "iopub.status.busy": "2024-12-28T06:58:13.630185Z",
     "iopub.status.idle": "2024-12-28T06:58:13.635228Z",
     "shell.execute_reply": "2024-12-28T06:58:13.634190Z",
     "shell.execute_reply.started": "2024-12-28T06:58:13.630592Z"
    },
    "trusted": true
   },
   "outputs": [],
   "source": [
    "def get_masses(ingr_data):\n",
    "    return [float(item[2]) for item in ingr_data]  #item[2] refers to mass"
   ]
  },
  {
   "cell_type": "code",
   "execution_count": 156,
   "metadata": {
    "execution": {
     "iopub.execute_input": "2024-12-28T08:16:25.653040Z",
     "iopub.status.busy": "2024-12-28T08:16:25.652540Z",
     "iopub.status.idle": "2024-12-28T08:16:25.660075Z",
     "shell.execute_reply": "2024-12-28T08:16:25.658487Z",
     "shell.execute_reply.started": "2024-12-28T08:16:25.653008Z"
    },
    "trusted": true
   },
   "outputs": [],
   "source": [
    "def get_most_common_ingr(rows, skip=None):\n",
    "    mass_map = {}\n",
    "    count_map = {}\n",
    "    for row in rows:\n",
    "        _, ingr_data = split_data(row)\n",
    "        names = get_names(ingr_data)\n",
    "        masses = get_masses(ingr_data)\n",
    "        for i, name in enumerate(names):\n",
    "            if name == '':\n",
    "                continue\n",
    "            if name not in mass_map:\n",
    "                mass_map[name] = 0\n",
    "            mass_map[name] += masses[i]\n",
    "            if name not in count_map:\n",
    "                count_map[name] = 0\n",
    "            count_map[name] += 1\n",
    "    for item in skip:\n",
    "        if item in mass_map:\n",
    "            del mass_map[item]\n",
    "    return mass_map, count_map"
   ]
  },
  {
   "cell_type": "code",
   "execution_count": 157,
   "metadata": {
    "execution": {
     "iopub.execute_input": "2024-12-28T08:40:44.088332Z",
     "iopub.status.busy": "2024-12-28T08:40:44.087999Z",
     "iopub.status.idle": "2024-12-28T08:40:44.094494Z",
     "shell.execute_reply": "2024-12-28T08:40:44.092910Z",
     "shell.execute_reply.started": "2024-12-28T08:40:44.088307Z"
    },
    "trusted": true
   },
   "outputs": [],
   "source": [
    "def calculate_data_from_ingrs(ingrs_data):   # single shell\n",
    "    total_calories = 0\n",
    "    total_fat = 0\n",
    "    total_carb = 0\n",
    "    total_protein = 0\n",
    "    for ingr in ingrs_data:\n",
    "        total_calories += float(ingr[3])\n",
    "        total_fat += float(ingr[4])\n",
    "        total_carb += float(ingr[5])\n",
    "        total_protein += float(ingr[6])\n",
    "    return total_calories, total_fat, total_carb, total_protein"
   ]
  },
  {
   "cell_type": "code",
   "execution_count": 158,
   "metadata": {
    "execution": {
     "iopub.execute_input": "2024-12-28T08:40:50.848763Z",
     "iopub.status.busy": "2024-12-28T08:40:50.848378Z",
     "iopub.status.idle": "2024-12-28T08:40:50.857913Z",
     "shell.execute_reply": "2024-12-28T08:40:50.856295Z",
     "shell.execute_reply.started": "2024-12-28T08:40:50.848737Z"
    },
    "trusted": true
   },
   "outputs": [],
   "source": [
    "def process_row(row, class_map, top_n=None):\n",
    "    macro_data, ingr_data = split_data(row)\n",
    "    result = {\n",
    "        'id': macro_data[0],\n",
    "        'total_calories': float(macro_data[1]),\n",
    "        'total_mass':float(macro_data[2]),\n",
    "        'total_fat':float(macro_data[3]),\n",
    "        'total_carb':float(macro_data[4]),\n",
    "        'total_protein':float(macro_data[5]),\n",
    "    }\n",
    "    if result['total_calories'] == 0:\n",
    "        total_calories, total_fat, total_carb, total_protein = calculate_data_from_ingrs(ingr_data)\n",
    "        #print(total_calories, total_fat, total_carb, total_protein)\n",
    "        result['total_calories'] = total_calories\n",
    "        result['total_fat'] = total_fat\n",
    "        result['total_carb'] = total_carb\n",
    "        result['total_protein'] = total_protein\n",
    "\n",
    "    names = get_names(ingr_data)\n",
    "    masses = get_masses(ingr_data)\n",
    "    masses_percent = [item / result['total_mass'] for item in masses]\n",
    "\n",
    "    filtered_names = []\n",
    "    filtered_masses_percent = []\n",
    "    for i, name in enumerate(names):   # only items that represents at least 5% of the total mass of the meal\n",
    "        if masses_percent[i] >= 0.05:\n",
    "            filtered_names.append(name)\n",
    "            filtered_masses_percent.append(masses_percent[i])\n",
    "    asort = np.argsort(filtered_masses_percent[::-1])\n",
    "    sorted_arr = np.array(filtered_names)[asort]\n",
    "    filtered = [item for item in sorted_arr if item in class_map]\n",
    "    if top_n is not None:\n",
    "        filtered = filtered[:top_n]\n",
    "    labels = []\n",
    "    for item in filtered:\n",
    "        if item != '':\n",
    "            labels.append(item)\n",
    "    result['label'] = labels if len(labels) > 0 else np.nan\n",
    "    return result"
   ]
  },
  {
   "cell_type": "code",
   "execution_count": 159,
   "metadata": {
    "execution": {
     "iopub.execute_input": "2024-12-28T06:59:40.713241Z",
     "iopub.status.busy": "2024-12-28T06:59:40.712899Z",
     "iopub.status.idle": "2024-12-28T06:59:40.794077Z",
     "shell.execute_reply": "2024-12-28T06:59:40.793031Z",
     "shell.execute_reply.started": "2024-12-28T06:59:40.713217Z"
    },
    "trusted": true
   },
   "outputs": [],
   "source": [
    "import csv\n",
    "rows = []\n",
    "with open('dish_metadata_cafe1.csv') as f:\n",
    "    csvreader = csv.reader(f)\n",
    "    for row in csvreader:\n",
    "        filtered_row = [value for value in row if value.strip()]\n",
    "        rows.append(filtered_row)"
   ]
  },
  {
   "cell_type": "code",
   "execution_count": 160,
   "metadata": {
    "execution": {
     "iopub.execute_input": "2024-12-28T06:59:43.774692Z",
     "iopub.status.busy": "2024-12-28T06:59:43.774306Z",
     "iopub.status.idle": "2024-12-28T06:59:43.781060Z",
     "shell.execute_reply": "2024-12-28T06:59:43.779712Z",
     "shell.execute_reply.started": "2024-12-28T06:59:43.774667Z"
    },
    "trusted": true
   },
   "outputs": [
    {
     "data": {
      "text/plain": [
       "4768"
      ]
     },
     "execution_count": 160,
     "metadata": {},
     "output_type": "execute_result"
    }
   ],
   "source": [
    "len(rows)"
   ]
  },
  {
   "cell_type": "code",
   "execution_count": 161,
   "metadata": {
    "execution": {
     "iopub.execute_input": "2024-12-28T06:59:47.263785Z",
     "iopub.status.busy": "2024-12-28T06:59:47.263384Z",
     "iopub.status.idle": "2024-12-28T06:59:47.282073Z",
     "shell.execute_reply": "2024-12-28T06:59:47.280511Z",
     "shell.execute_reply.started": "2024-12-28T06:59:47.263755Z"
    },
    "trusted": true
   },
   "outputs": [],
   "source": [
    "import csv\n",
    "rows = []\n",
    "with open('dish_metadata_cafe1.csv') as f:\n",
    "    csvreader = csv.reader(f)\n",
    "    for row in csvreader:\n",
    "        filtered_row = [value for value in row if value.strip()]\n",
    "        rows.append(filtered_row)\n",
    "with open('dish_metadata_cafe2.csv') as f:\n",
    "    csvreader = csv.reader(f)\n",
    "    for row in csvreader:\n",
    "        filtered_row = [value for value in row if value.strip()]\n",
    "        rows.append(filtered_row)"
   ]
  },
  {
   "cell_type": "code",
   "execution_count": 162,
   "metadata": {},
   "outputs": [
    {
     "data": {
      "text/plain": [
       "\"row_index = 0\\nccnt = []\\nstep = 0\\nfor row in rows:\\n    if row_index >= 4768:\\n        row_index %= 4768\\n    else:\\n        row_index +=1\\n    for ele in row:\\n        step += 1\\n        if ele.startswith('ingr'):\\n            if step == 6:\\n                print(row_index)\\n            ccnt.append(step)\\n            step = 0\\n    step = 0 \""
      ]
     },
     "execution_count": 162,
     "metadata": {},
     "output_type": "execute_result"
    }
   ],
   "source": [
    "\"\"\"row_index = 0\n",
    "ccnt = []\n",
    "step = 0\n",
    "for row in rows:\n",
    "    if row_index >= 4768:\n",
    "        row_index %= 4768\n",
    "    else:\n",
    "        row_index +=1\n",
    "    for ele in row:\n",
    "        step += 1\n",
    "        if ele.startswith('ingr'):\n",
    "            if step == 6:\n",
    "                print(row_index)\n",
    "            ccnt.append(step)\n",
    "            step = 0\n",
    "    step = 0 \"\"\""
   ]
  },
  {
   "cell_type": "code",
   "execution_count": 163,
   "metadata": {
    "execution": {
     "iopub.execute_input": "2024-12-28T07:10:24.318924Z",
     "iopub.status.busy": "2024-12-28T07:10:24.318442Z",
     "iopub.status.idle": "2024-12-28T07:10:24.324154Z",
     "shell.execute_reply": "2024-12-28T07:10:24.322831Z",
     "shell.execute_reply.started": "2024-12-28T07:10:24.318892Z"
    },
    "trusted": true
   },
   "outputs": [],
   "source": [
    "skip = ['olive oil', 'salt', 'pepper', 'vinegar', 'coffee', 'plate only', 'vegetable oil', 'deprecated']"
   ]
  },
  {
   "cell_type": "code",
   "execution_count": 164,
   "metadata": {
    "execution": {
     "iopub.execute_input": "2024-12-28T08:16:30.801961Z",
     "iopub.status.busy": "2024-12-28T08:16:30.801573Z",
     "iopub.status.idle": "2024-12-28T08:16:30.858934Z",
     "shell.execute_reply": "2024-12-28T08:16:30.857548Z",
     "shell.execute_reply.started": "2024-12-28T08:16:30.801937Z"
    },
    "trusted": true
   },
   "outputs": [
    {
     "data": {
      "text/html": [
       "<div>\n",
       "<style scoped>\n",
       "    .dataframe tbody tr th:only-of-type {\n",
       "        vertical-align: middle;\n",
       "    }\n",
       "\n",
       "    .dataframe tbody tr th {\n",
       "        vertical-align: top;\n",
       "    }\n",
       "\n",
       "    .dataframe thead th {\n",
       "        text-align: right;\n",
       "    }\n",
       "</style>\n",
       "<table border=\"1\" class=\"dataframe\">\n",
       "  <thead>\n",
       "    <tr style=\"text-align: right;\">\n",
       "      <th></th>\n",
       "      <th>ingr</th>\n",
       "      <th>mass</th>\n",
       "      <th>count</th>\n",
       "    </tr>\n",
       "  </thead>\n",
       "  <tbody>\n",
       "    <tr>\n",
       "      <th>0</th>\n",
       "      <td>soy sauce</td>\n",
       "      <td>268.705771</td>\n",
       "      <td>123</td>\n",
       "    </tr>\n",
       "    <tr>\n",
       "      <th>1</th>\n",
       "      <td>garlic</td>\n",
       "      <td>1244.628944</td>\n",
       "      <td>1012</td>\n",
       "    </tr>\n",
       "    <tr>\n",
       "      <th>2</th>\n",
       "      <td>white rice</td>\n",
       "      <td>13030.895709</td>\n",
       "      <td>323</td>\n",
       "    </tr>\n",
       "    <tr>\n",
       "      <th>3</th>\n",
       "      <td>parsley</td>\n",
       "      <td>489.541188</td>\n",
       "      <td>523</td>\n",
       "    </tr>\n",
       "    <tr>\n",
       "      <th>4</th>\n",
       "      <td>onions</td>\n",
       "      <td>5991.911975</td>\n",
       "      <td>749</td>\n",
       "    </tr>\n",
       "    <tr>\n",
       "      <th>5</th>\n",
       "      <td>brown rice</td>\n",
       "      <td>5376.194467</td>\n",
       "      <td>239</td>\n",
       "    </tr>\n",
       "    <tr>\n",
       "      <th>6</th>\n",
       "      <td>apple</td>\n",
       "      <td>19397.623488</td>\n",
       "      <td>239</td>\n",
       "    </tr>\n",
       "    <tr>\n",
       "      <th>7</th>\n",
       "      <td>mixed greens</td>\n",
       "      <td>12893.382258</td>\n",
       "      <td>390</td>\n",
       "    </tr>\n",
       "    <tr>\n",
       "      <th>8</th>\n",
       "      <td>sugar</td>\n",
       "      <td>412.625290</td>\n",
       "      <td>50</td>\n",
       "    </tr>\n",
       "    <tr>\n",
       "      <th>9</th>\n",
       "      <td>lemon juice</td>\n",
       "      <td>862.331321</td>\n",
       "      <td>613</td>\n",
       "    </tr>\n",
       "    <tr>\n",
       "      <th>10</th>\n",
       "      <td>pork</td>\n",
       "      <td>15336.915703</td>\n",
       "      <td>183</td>\n",
       "    </tr>\n",
       "    <tr>\n",
       "      <th>11</th>\n",
       "      <td>bok choy</td>\n",
       "      <td>6434.027722</td>\n",
       "      <td>230</td>\n",
       "    </tr>\n",
       "    <tr>\n",
       "      <th>12</th>\n",
       "      <td>millet</td>\n",
       "      <td>2123.799429</td>\n",
       "      <td>184</td>\n",
       "    </tr>\n",
       "    <tr>\n",
       "      <th>13</th>\n",
       "      <td>roasted potatoes</td>\n",
       "      <td>13398.000000</td>\n",
       "      <td>189</td>\n",
       "    </tr>\n",
       "    <tr>\n",
       "      <th>14</th>\n",
       "      <td>chicken apple sausage</td>\n",
       "      <td>4092.000000</td>\n",
       "      <td>60</td>\n",
       "    </tr>\n",
       "    <tr>\n",
       "      <th>15</th>\n",
       "      <td>green beans</td>\n",
       "      <td>7074.222740</td>\n",
       "      <td>161</td>\n",
       "    </tr>\n",
       "    <tr>\n",
       "      <th>16</th>\n",
       "      <td>jalapenos</td>\n",
       "      <td>315.899705</td>\n",
       "      <td>252</td>\n",
       "    </tr>\n",
       "    <tr>\n",
       "      <th>17</th>\n",
       "      <td>wheat berry</td>\n",
       "      <td>6789.344791</td>\n",
       "      <td>307</td>\n",
       "    </tr>\n",
       "    <tr>\n",
       "      <th>18</th>\n",
       "      <td>cabbage</td>\n",
       "      <td>999.406332</td>\n",
       "      <td>80</td>\n",
       "    </tr>\n",
       "    <tr>\n",
       "      <th>19</th>\n",
       "      <td>carrot</td>\n",
       "      <td>18121.583354</td>\n",
       "      <td>526</td>\n",
       "    </tr>\n",
       "  </tbody>\n",
       "</table>\n",
       "</div>"
      ],
      "text/plain": [
       "                     ingr          mass  count\n",
       "0               soy sauce    268.705771    123\n",
       "1                  garlic   1244.628944   1012\n",
       "2              white rice  13030.895709    323\n",
       "3                 parsley    489.541188    523\n",
       "4                  onions   5991.911975    749\n",
       "5              brown rice   5376.194467    239\n",
       "6                   apple  19397.623488    239\n",
       "7            mixed greens  12893.382258    390\n",
       "8                   sugar    412.625290     50\n",
       "9             lemon juice    862.331321    613\n",
       "10                   pork  15336.915703    183\n",
       "11               bok choy   6434.027722    230\n",
       "12                 millet   2123.799429    184\n",
       "13       roasted potatoes  13398.000000    189\n",
       "14  chicken apple sausage   4092.000000     60\n",
       "15            green beans   7074.222740    161\n",
       "16              jalapenos    315.899705    252\n",
       "17            wheat berry   6789.344791    307\n",
       "18                cabbage    999.406332     80\n",
       "19                 carrot  18121.583354    526"
      ]
     },
     "execution_count": 164,
     "metadata": {},
     "output_type": "execute_result"
    }
   ],
   "source": [
    "n = 75\n",
    "mass_map, count_map = get_most_common_ingr(rows, skip)\n",
    "mass_df = pd.DataFrame(mass_map.items(), columns=['ingr','mass']).set_index('ingr')\n",
    "count_df = pd.DataFrame(count_map.items(), columns=['ingr', 'count']).set_index('ingr')\n",
    "ingredients_df = mass_df.join(count_df).reset_index()\n",
    "ingredients_df.head(20)"
   ]
  },
  {
   "cell_type": "code",
   "execution_count": 165,
   "metadata": {
    "execution": {
     "iopub.execute_input": "2024-12-28T08:28:22.778090Z",
     "iopub.status.busy": "2024-12-28T08:28:22.777747Z",
     "iopub.status.idle": "2024-12-28T08:28:22.795892Z",
     "shell.execute_reply": "2024-12-28T08:28:22.794481Z",
     "shell.execute_reply.started": "2024-12-28T08:28:22.778067Z"
    },
    "trusted": true
   },
   "outputs": [
    {
     "data": {
      "text/html": [
       "<div>\n",
       "<style scoped>\n",
       "    .dataframe tbody tr th:only-of-type {\n",
       "        vertical-align: middle;\n",
       "    }\n",
       "\n",
       "    .dataframe tbody tr th {\n",
       "        vertical-align: top;\n",
       "    }\n",
       "\n",
       "    .dataframe thead th {\n",
       "        text-align: right;\n",
       "    }\n",
       "</style>\n",
       "<table border=\"1\" class=\"dataframe\">\n",
       "  <thead>\n",
       "    <tr style=\"text-align: right;\">\n",
       "      <th></th>\n",
       "      <th>ingr</th>\n",
       "      <th>mass</th>\n",
       "      <th>count</th>\n",
       "      <th>mass_weight</th>\n",
       "      <th>count_weight</th>\n",
       "    </tr>\n",
       "  </thead>\n",
       "  <tbody>\n",
       "    <tr>\n",
       "      <th>36</th>\n",
       "      <td>egg whites</td>\n",
       "      <td>47794.333297</td>\n",
       "      <td>200</td>\n",
       "      <td>1.000000</td>\n",
       "      <td>3.745000</td>\n",
       "    </tr>\n",
       "    <tr>\n",
       "      <th>48</th>\n",
       "      <td>chicken</td>\n",
       "      <td>46796.594974</td>\n",
       "      <td>400</td>\n",
       "      <td>1.021321</td>\n",
       "      <td>1.872500</td>\n",
       "    </tr>\n",
       "    <tr>\n",
       "      <th>33</th>\n",
       "      <td>scrambled eggs</td>\n",
       "      <td>39772.309517</td>\n",
       "      <td>331</td>\n",
       "      <td>1.201699</td>\n",
       "      <td>2.262840</td>\n",
       "    </tr>\n",
       "    <tr>\n",
       "      <th>81</th>\n",
       "      <td>olives</td>\n",
       "      <td>37301.340391</td>\n",
       "      <td>297</td>\n",
       "      <td>1.281303</td>\n",
       "      <td>2.521886</td>\n",
       "    </tr>\n",
       "    <tr>\n",
       "      <th>39</th>\n",
       "      <td>cauliflower</td>\n",
       "      <td>29629.891235</td>\n",
       "      <td>340</td>\n",
       "      <td>1.613045</td>\n",
       "      <td>2.202941</td>\n",
       "    </tr>\n",
       "  </tbody>\n",
       "</table>\n",
       "</div>"
      ],
      "text/plain": [
       "              ingr          mass  count  mass_weight  count_weight\n",
       "36      egg whites  47794.333297    200     1.000000      3.745000\n",
       "48         chicken  46796.594974    400     1.021321      1.872500\n",
       "33  scrambled eggs  39772.309517    331     1.201699      2.262840\n",
       "81          olives  37301.340391    297     1.281303      2.521886\n",
       "39     cauliflower  29629.891235    340     1.613045      2.202941"
      ]
     },
     "execution_count": 165,
     "metadata": {},
     "output_type": "execute_result"
    }
   ],
   "source": [
    "if n is not None:\n",
    "    ingredients_df = ingredients_df.nlargest(n, ['mass'])\n",
    "ingredients_df['mass_weight'] = ingredients_df['mass'].max()/ingredients_df['mass']\n",
    "ingredients_df['count_weight'] = ingredients_df['count'].max()/ingredients_df['count']\n",
    "ingredients_df.head()"
   ]
  },
  {
   "cell_type": "code",
   "execution_count": 166,
   "metadata": {
    "execution": {
     "iopub.execute_input": "2024-12-28T08:28:43.224172Z",
     "iopub.status.busy": "2024-12-28T08:28:43.223755Z",
     "iopub.status.idle": "2024-12-28T08:28:43.232023Z",
     "shell.execute_reply": "2024-12-28T08:28:43.230521Z",
     "shell.execute_reply.started": "2024-12-28T08:28:43.224144Z"
    },
    "trusted": true
   },
   "outputs": [
    {
     "data": {
      "text/plain": [
       "75"
      ]
     },
     "execution_count": 166,
     "metadata": {},
     "output_type": "execute_result"
    }
   ],
   "source": [
    "len(ingredients_df)"
   ]
  },
  {
   "cell_type": "code",
   "execution_count": 167,
   "metadata": {
    "execution": {
     "iopub.execute_input": "2024-12-28T08:31:48.934172Z",
     "iopub.status.busy": "2024-12-28T08:31:48.933774Z",
     "iopub.status.idle": "2024-12-28T08:31:48.942375Z",
     "shell.execute_reply": "2024-12-28T08:31:48.941061Z",
     "shell.execute_reply.started": "2024-12-28T08:31:48.934145Z"
    },
    "trusted": true
   },
   "outputs": [],
   "source": [
    "ingredients_df.to_csv('./classes.csv')"
   ]
  },
  {
   "cell_type": "code",
   "execution_count": 168,
   "metadata": {
    "execution": {
     "iopub.execute_input": "2024-12-28T08:33:44.459337Z",
     "iopub.status.busy": "2024-12-28T08:33:44.458859Z",
     "iopub.status.idle": "2024-12-28T08:33:44.466944Z",
     "shell.execute_reply": "2024-12-28T08:33:44.465505Z",
     "shell.execute_reply.started": "2024-12-28T08:33:44.459296Z"
    },
    "trusted": true
   },
   "outputs": [
    {
     "data": {
      "text/plain": [
       "75"
      ]
     },
     "execution_count": 168,
     "metadata": {},
     "output_type": "execute_result"
    }
   ],
   "source": [
    "unique_ingredients = set(ingredients_df['ingr'])\n",
    "len(unique_ingredients)"
   ]
  },
  {
   "cell_type": "code",
   "execution_count": 169,
   "metadata": {
    "execution": {
     "iopub.execute_input": "2024-12-28T08:40:57.775357Z",
     "iopub.status.busy": "2024-12-28T08:40:57.774945Z",
     "iopub.status.idle": "2024-12-28T08:40:57.963929Z",
     "shell.execute_reply": "2024-12-28T08:40:57.962382Z",
     "shell.execute_reply.started": "2024-12-28T08:40:57.775328Z"
    },
    "trusted": true
   },
   "outputs": [],
   "source": [
    "top_n = 5\n",
    "items = []\n",
    "for row in rows:\n",
    "    processed = process_row(row, unique_ingredients, top_n)\n",
    "    items.append(processed)"
   ]
  },
  {
   "cell_type": "code",
   "execution_count": 170,
   "metadata": {
    "execution": {
     "iopub.execute_input": "2024-12-28T08:41:28.664798Z",
     "iopub.status.busy": "2024-12-28T08:41:28.664400Z",
     "iopub.status.idle": "2024-12-28T08:41:28.680200Z",
     "shell.execute_reply": "2024-12-28T08:41:28.678988Z",
     "shell.execute_reply.started": "2024-12-28T08:41:28.664768Z"
    },
    "trusted": true
   },
   "outputs": [],
   "source": [
    "df = pd.DataFrame(items)"
   ]
  },
  {
   "cell_type": "code",
   "execution_count": 171,
   "metadata": {
    "execution": {
     "iopub.execute_input": "2024-12-28T08:41:40.852015Z",
     "iopub.status.busy": "2024-12-28T08:41:40.851552Z",
     "iopub.status.idle": "2024-12-28T08:41:40.862648Z",
     "shell.execute_reply": "2024-12-28T08:41:40.861366Z",
     "shell.execute_reply.started": "2024-12-28T08:41:40.851984Z"
    },
    "trusted": true
   },
   "outputs": [],
   "source": [
    "#df = df.dropna()"
   ]
  },
  {
   "cell_type": "code",
   "execution_count": 172,
   "metadata": {
    "execution": {
     "iopub.execute_input": "2024-12-28T08:41:48.581076Z",
     "iopub.status.busy": "2024-12-28T08:41:48.580676Z",
     "iopub.status.idle": "2024-12-28T08:41:48.595827Z",
     "shell.execute_reply": "2024-12-28T08:41:48.594749Z",
     "shell.execute_reply.started": "2024-12-28T08:41:48.581041Z"
    },
    "trusted": true
   },
   "outputs": [
    {
     "data": {
      "text/html": [
       "<div>\n",
       "<style scoped>\n",
       "    .dataframe tbody tr th:only-of-type {\n",
       "        vertical-align: middle;\n",
       "    }\n",
       "\n",
       "    .dataframe tbody tr th {\n",
       "        vertical-align: top;\n",
       "    }\n",
       "\n",
       "    .dataframe thead th {\n",
       "        text-align: right;\n",
       "    }\n",
       "</style>\n",
       "<table border=\"1\" class=\"dataframe\">\n",
       "  <thead>\n",
       "    <tr style=\"text-align: right;\">\n",
       "      <th></th>\n",
       "      <th>id</th>\n",
       "      <th>total_calories</th>\n",
       "      <th>total_mass</th>\n",
       "      <th>total_fat</th>\n",
       "      <th>total_carb</th>\n",
       "      <th>total_protein</th>\n",
       "      <th>label</th>\n",
       "    </tr>\n",
       "  </thead>\n",
       "  <tbody>\n",
       "    <tr>\n",
       "      <th>0</th>\n",
       "      <td>dish_1561662216</td>\n",
       "      <td>300.794281</td>\n",
       "      <td>193.0</td>\n",
       "      <td>12.387489</td>\n",
       "      <td>28.218290</td>\n",
       "      <td>18.633970</td>\n",
       "      <td>[mixed greens, brown rice, pork]</td>\n",
       "    </tr>\n",
       "    <tr>\n",
       "      <th>1</th>\n",
       "      <td>dish_1562688426</td>\n",
       "      <td>137.569992</td>\n",
       "      <td>88.0</td>\n",
       "      <td>8.256000</td>\n",
       "      <td>5.190000</td>\n",
       "      <td>10.297000</td>\n",
       "      <td>[chicken apple sausage, roasted potatoes]</td>\n",
       "    </tr>\n",
       "    <tr>\n",
       "      <th>2</th>\n",
       "      <td>dish_1561662054</td>\n",
       "      <td>419.438782</td>\n",
       "      <td>292.0</td>\n",
       "      <td>23.838249</td>\n",
       "      <td>26.351543</td>\n",
       "      <td>25.910593</td>\n",
       "      <td>[mixed greens, pork, apple, green beans]</td>\n",
       "    </tr>\n",
       "    <tr>\n",
       "      <th>3</th>\n",
       "      <td>dish_1562008979</td>\n",
       "      <td>382.936646</td>\n",
       "      <td>290.0</td>\n",
       "      <td>22.224644</td>\n",
       "      <td>10.173570</td>\n",
       "      <td>35.345387</td>\n",
       "      <td>[wheat berry, caesar salad, pork]</td>\n",
       "    </tr>\n",
       "    <tr>\n",
       "      <th>4</th>\n",
       "      <td>dish_1560455030</td>\n",
       "      <td>20.590000</td>\n",
       "      <td>103.0</td>\n",
       "      <td>0.148000</td>\n",
       "      <td>4.625000</td>\n",
       "      <td>0.956000</td>\n",
       "      <td>[cherry tomatoes, cucumbers]</td>\n",
       "    </tr>\n",
       "  </tbody>\n",
       "</table>\n",
       "</div>"
      ],
      "text/plain": [
       "                id  total_calories  total_mass  total_fat  total_carb  \\\n",
       "0  dish_1561662216      300.794281       193.0  12.387489   28.218290   \n",
       "1  dish_1562688426      137.569992        88.0   8.256000    5.190000   \n",
       "2  dish_1561662054      419.438782       292.0  23.838249   26.351543   \n",
       "3  dish_1562008979      382.936646       290.0  22.224644   10.173570   \n",
       "4  dish_1560455030       20.590000       103.0   0.148000    4.625000   \n",
       "\n",
       "   total_protein                                      label  \n",
       "0      18.633970           [mixed greens, brown rice, pork]  \n",
       "1      10.297000  [chicken apple sausage, roasted potatoes]  \n",
       "2      25.910593   [mixed greens, pork, apple, green beans]  \n",
       "3      35.345387          [wheat berry, caesar salad, pork]  \n",
       "4       0.956000               [cherry tomatoes, cucumbers]  "
      ]
     },
     "execution_count": 172,
     "metadata": {},
     "output_type": "execute_result"
    }
   ],
   "source": [
    "df.head()"
   ]
  },
  {
   "cell_type": "code",
   "execution_count": 176,
   "metadata": {},
   "outputs": [
    {
     "name": "stdout",
     "output_type": "stream",
     "text": [
      "<class 'pandas.core.frame.DataFrame'>\n",
      "RangeIndex: 5006 entries, 0 to 5005\n",
      "Data columns (total 7 columns):\n",
      " #   Column          Non-Null Count  Dtype  \n",
      "---  ------          --------------  -----  \n",
      " 0   id              5006 non-null   object \n",
      " 1   total_calories  5006 non-null   float64\n",
      " 2   total_mass      5006 non-null   float64\n",
      " 3   total_fat       5006 non-null   float64\n",
      " 4   total_carb      5006 non-null   float64\n",
      " 5   total_protein   5006 non-null   float64\n",
      " 6   label           4770 non-null   object \n",
      "dtypes: float64(5), object(2)\n",
      "memory usage: 273.9+ KB\n"
     ]
    }
   ],
   "source": [
    "df.info()"
   ]
  },
  {
   "cell_type": "code",
   "execution_count": 174,
   "metadata": {},
   "outputs": [
    {
     "data": {
      "text/html": [
       "<div>\n",
       "<style scoped>\n",
       "    .dataframe tbody tr th:only-of-type {\n",
       "        vertical-align: middle;\n",
       "    }\n",
       "\n",
       "    .dataframe tbody tr th {\n",
       "        vertical-align: top;\n",
       "    }\n",
       "\n",
       "    .dataframe thead th {\n",
       "        text-align: right;\n",
       "    }\n",
       "</style>\n",
       "<table border=\"1\" class=\"dataframe\">\n",
       "  <thead>\n",
       "    <tr style=\"text-align: right;\">\n",
       "      <th></th>\n",
       "      <th>ingr</th>\n",
       "      <th>id</th>\n",
       "      <th>cal/g</th>\n",
       "      <th>fat(g)</th>\n",
       "      <th>carb(g)</th>\n",
       "      <th>protein(g)</th>\n",
       "    </tr>\n",
       "  </thead>\n",
       "  <tbody>\n",
       "    <tr>\n",
       "      <th>0</th>\n",
       "      <td>cottage cheese</td>\n",
       "      <td>1</td>\n",
       "      <td>0.980</td>\n",
       "      <td>0.043</td>\n",
       "      <td>0.034</td>\n",
       "      <td>0.110</td>\n",
       "    </tr>\n",
       "    <tr>\n",
       "      <th>1</th>\n",
       "      <td>strawberries</td>\n",
       "      <td>2</td>\n",
       "      <td>0.330</td>\n",
       "      <td>0.003</td>\n",
       "      <td>0.080</td>\n",
       "      <td>0.007</td>\n",
       "    </tr>\n",
       "    <tr>\n",
       "      <th>2</th>\n",
       "      <td>garden salad</td>\n",
       "      <td>3</td>\n",
       "      <td>0.646</td>\n",
       "      <td>0.034</td>\n",
       "      <td>0.032</td>\n",
       "      <td>0.061</td>\n",
       "    </tr>\n",
       "    <tr>\n",
       "      <th>3</th>\n",
       "      <td>bacon</td>\n",
       "      <td>4</td>\n",
       "      <td>5.410</td>\n",
       "      <td>0.420</td>\n",
       "      <td>0.014</td>\n",
       "      <td>0.370</td>\n",
       "    </tr>\n",
       "    <tr>\n",
       "      <th>4</th>\n",
       "      <td>potatoes</td>\n",
       "      <td>5</td>\n",
       "      <td>0.770</td>\n",
       "      <td>0.001</td>\n",
       "      <td>0.170</td>\n",
       "      <td>0.020</td>\n",
       "    </tr>\n",
       "  </tbody>\n",
       "</table>\n",
       "</div>"
      ],
      "text/plain": [
       "             ingr  id  cal/g  fat(g)  carb(g)  protein(g)\n",
       "0  cottage cheese   1  0.980   0.043    0.034       0.110\n",
       "1    strawberries   2  0.330   0.003    0.080       0.007\n",
       "2    garden salad   3  0.646   0.034    0.032       0.061\n",
       "3           bacon   4  5.410   0.420    0.014       0.370\n",
       "4        potatoes   5  0.770   0.001    0.170       0.020"
      ]
     },
     "execution_count": 174,
     "metadata": {},
     "output_type": "execute_result"
    }
   ],
   "source": [
    "df2 = pd.read_csv(\"ingredients_metadata.csv\")\n",
    "df2.head(5)"
   ]
  },
  {
   "cell_type": "code",
   "execution_count": 175,
   "metadata": {},
   "outputs": [],
   "source": [
    "df.to_csv('./dish_meta_data.csv')"
   ]
  }
 ],
 "metadata": {
  "kaggle": {
   "accelerator": "none",
   "dataSources": [
    {
     "datasetId": 6384290,
     "sourceId": 10312829,
     "sourceType": "datasetVersion"
    },
    {
     "datasetId": 6386942,
     "sourceId": 10316651,
     "sourceType": "datasetVersion"
    },
    {
     "datasetId": 6386958,
     "sourceId": 10316673,
     "sourceType": "datasetVersion"
    }
   ],
   "dockerImageVersionId": 30822,
   "isGpuEnabled": false,
   "isInternetEnabled": false,
   "language": "python",
   "sourceType": "notebook"
  },
  "kernelspec": {
   "display_name": "Python (myenv)",
   "language": "python",
   "name": ".venv"
  },
  "language_info": {
   "codemirror_mode": {
    "name": "ipython",
    "version": 3
   },
   "file_extension": ".py",
   "mimetype": "text/x-python",
   "name": "python",
   "nbconvert_exporter": "python",
   "pygments_lexer": "ipython3",
   "version": "3.12.3"
  }
 },
 "nbformat": 4,
 "nbformat_minor": 4
}
