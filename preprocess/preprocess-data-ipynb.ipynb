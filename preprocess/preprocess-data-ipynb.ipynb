{
 "cells": [
  {
   "cell_type": "code",
   "execution_count": 1,
   "metadata": {},
   "outputs": [],
   "source": [
    "import pandas as pd\n",
    "import numpy as np"
   ]
  },
  {
   "cell_type": "code",
   "execution_count": 4,
   "metadata": {
    "execution": {
     "iopub.execute_input": "2024-12-28T06:57:59.564662Z",
     "iopub.status.busy": "2024-12-28T06:57:59.564072Z",
     "iopub.status.idle": "2024-12-28T06:57:59.602133Z",
     "shell.execute_reply": "2024-12-28T06:57:59.600920Z",
     "shell.execute_reply.started": "2024-12-28T06:57:59.564630Z"
    },
    "trusted": true
   },
   "outputs": [
    {
     "name": "stdout",
     "output_type": "stream",
     "text": [
      "<class 'pandas.core.frame.DataFrame'>\n",
      "Index: 555 entries, 1 to 555\n",
      "Data columns (total 5 columns):\n",
      " #   Column      Non-Null Count  Dtype  \n",
      "---  ------      --------------  -----  \n",
      " 0   ingr        555 non-null    object \n",
      " 1   cal/g       555 non-null    float64\n",
      " 2   fat(g)      555 non-null    float64\n",
      " 3   carb(g)     555 non-null    float64\n",
      " 4   protein(g)  555 non-null    float64\n",
      "dtypes: float64(4), object(1)\n",
      "memory usage: 26.0+ KB\n"
     ]
    },
    {
     "data": {
      "text/html": [
       "<div>\n",
       "<style scoped>\n",
       "    .dataframe tbody tr th:only-of-type {\n",
       "        vertical-align: middle;\n",
       "    }\n",
       "\n",
       "    .dataframe tbody tr th {\n",
       "        vertical-align: top;\n",
       "    }\n",
       "\n",
       "    .dataframe thead th {\n",
       "        text-align: right;\n",
       "    }\n",
       "</style>\n",
       "<table border=\"1\" class=\"dataframe\">\n",
       "  <thead>\n",
       "    <tr style=\"text-align: right;\">\n",
       "      <th></th>\n",
       "      <th>ingr</th>\n",
       "      <th>cal/g</th>\n",
       "      <th>fat(g)</th>\n",
       "      <th>carb(g)</th>\n",
       "      <th>protein(g)</th>\n",
       "    </tr>\n",
       "    <tr>\n",
       "      <th>id</th>\n",
       "      <th></th>\n",
       "      <th></th>\n",
       "      <th></th>\n",
       "      <th></th>\n",
       "      <th></th>\n",
       "    </tr>\n",
       "  </thead>\n",
       "  <tbody>\n",
       "    <tr>\n",
       "      <th>1</th>\n",
       "      <td>cottage cheese</td>\n",
       "      <td>0.980</td>\n",
       "      <td>0.043</td>\n",
       "      <td>0.034</td>\n",
       "      <td>0.110</td>\n",
       "    </tr>\n",
       "    <tr>\n",
       "      <th>2</th>\n",
       "      <td>strawberries</td>\n",
       "      <td>0.330</td>\n",
       "      <td>0.003</td>\n",
       "      <td>0.080</td>\n",
       "      <td>0.007</td>\n",
       "    </tr>\n",
       "    <tr>\n",
       "      <th>3</th>\n",
       "      <td>garden salad</td>\n",
       "      <td>0.646</td>\n",
       "      <td>0.034</td>\n",
       "      <td>0.032</td>\n",
       "      <td>0.061</td>\n",
       "    </tr>\n",
       "    <tr>\n",
       "      <th>4</th>\n",
       "      <td>bacon</td>\n",
       "      <td>5.410</td>\n",
       "      <td>0.420</td>\n",
       "      <td>0.014</td>\n",
       "      <td>0.370</td>\n",
       "    </tr>\n",
       "    <tr>\n",
       "      <th>5</th>\n",
       "      <td>potatoes</td>\n",
       "      <td>0.770</td>\n",
       "      <td>0.001</td>\n",
       "      <td>0.170</td>\n",
       "      <td>0.020</td>\n",
       "    </tr>\n",
       "    <tr>\n",
       "      <th>6</th>\n",
       "      <td>caesar salad</td>\n",
       "      <td>0.440</td>\n",
       "      <td>0.021</td>\n",
       "      <td>0.043</td>\n",
       "      <td>0.032</td>\n",
       "    </tr>\n",
       "    <tr>\n",
       "      <th>7</th>\n",
       "      <td>cauliflower</td>\n",
       "      <td>0.250</td>\n",
       "      <td>0.003</td>\n",
       "      <td>0.050</td>\n",
       "      <td>0.018</td>\n",
       "    </tr>\n",
       "    <tr>\n",
       "      <th>8</th>\n",
       "      <td>scrambled eggs</td>\n",
       "      <td>1.480</td>\n",
       "      <td>0.110</td>\n",
       "      <td>0.016</td>\n",
       "      <td>0.100</td>\n",
       "    </tr>\n",
       "    <tr>\n",
       "      <th>9</th>\n",
       "      <td>wild rice</td>\n",
       "      <td>1.190</td>\n",
       "      <td>0.004</td>\n",
       "      <td>0.250</td>\n",
       "      <td>0.050</td>\n",
       "    </tr>\n",
       "    <tr>\n",
       "      <th>10</th>\n",
       "      <td>steak</td>\n",
       "      <td>2.710</td>\n",
       "      <td>0.190</td>\n",
       "      <td>0.000</td>\n",
       "      <td>0.250</td>\n",
       "    </tr>\n",
       "  </tbody>\n",
       "</table>\n",
       "</div>"
      ],
      "text/plain": [
       "              ingr  cal/g  fat(g)  carb(g)  protein(g)\n",
       "id                                                    \n",
       "1   cottage cheese  0.980   0.043    0.034       0.110\n",
       "2     strawberries  0.330   0.003    0.080       0.007\n",
       "3     garden salad  0.646   0.034    0.032       0.061\n",
       "4            bacon  5.410   0.420    0.014       0.370\n",
       "5         potatoes  0.770   0.001    0.170       0.020\n",
       "6     caesar salad  0.440   0.021    0.043       0.032\n",
       "7      cauliflower  0.250   0.003    0.050       0.018\n",
       "8   scrambled eggs  1.480   0.110    0.016       0.100\n",
       "9        wild rice  1.190   0.004    0.250       0.050\n",
       "10           steak  2.710   0.190    0.000       0.250"
      ]
     },
     "execution_count": 4,
     "metadata": {},
     "output_type": "execute_result"
    }
   ],
   "source": [
    "df1 = pd.read_csv(\"/home/ritushwar/Nutritional-Assistance/metadata/ingredients_metadata.csv\")\n",
    "df1 = df1.set_index('id')\n",
    "df1.info()\n",
    "df1.head(10)"
   ]
  },
  {
   "cell_type": "code",
   "execution_count": 3,
   "metadata": {
    "execution": {
     "iopub.execute_input": "2024-12-28T06:58:05.924295Z",
     "iopub.status.busy": "2024-12-28T06:58:05.923970Z",
     "iopub.status.idle": "2024-12-28T06:58:05.930286Z",
     "shell.execute_reply": "2024-12-28T06:58:05.928898Z",
     "shell.execute_reply.started": "2024-12-28T06:58:05.924271Z"
    },
    "trusted": true
   },
   "outputs": [],
   "source": [
    "def split_data(row):   # input must me single row\n",
    "    macro_data = row[:6]  # first six belongs to macro data\n",
    "    ingr_data = row[6:]  # after that belongs to ingr data\n",
    "    ingr_data = [ingr_data[i:i+7] for i in range(0, len(ingr_data), 7)]   # include from 0 to 6\n",
    "    return macro_data, ingr_data"
   ]
  },
  {
   "cell_type": "code",
   "execution_count": 4,
   "metadata": {
    "execution": {
     "iopub.execute_input": "2024-12-28T06:58:09.299904Z",
     "iopub.status.busy": "2024-12-28T06:58:09.299457Z",
     "iopub.status.idle": "2024-12-28T06:58:09.305940Z",
     "shell.execute_reply": "2024-12-28T06:58:09.304207Z",
     "shell.execute_reply.started": "2024-12-28T06:58:09.299874Z"
    },
    "trusted": true
   },
   "outputs": [],
   "source": [
    "def get_names(ingr_data):  # input must be row of single dish\n",
    "    return [item[1] for item in ingr_data]  # item[1] refers to name"
   ]
  },
  {
   "cell_type": "code",
   "execution_count": 5,
   "metadata": {
    "execution": {
     "iopub.execute_input": "2024-12-28T06:58:13.630644Z",
     "iopub.status.busy": "2024-12-28T06:58:13.630185Z",
     "iopub.status.idle": "2024-12-28T06:58:13.635228Z",
     "shell.execute_reply": "2024-12-28T06:58:13.634190Z",
     "shell.execute_reply.started": "2024-12-28T06:58:13.630592Z"
    },
    "trusted": true
   },
   "outputs": [],
   "source": [
    "def get_masses(ingr_data):\n",
    "    return [float(item[2]) for item in ingr_data]  #item[2] refers to mass"
   ]
  },
  {
   "cell_type": "code",
   "execution_count": 6,
   "metadata": {
    "execution": {
     "iopub.execute_input": "2024-12-28T08:16:25.653040Z",
     "iopub.status.busy": "2024-12-28T08:16:25.652540Z",
     "iopub.status.idle": "2024-12-28T08:16:25.660075Z",
     "shell.execute_reply": "2024-12-28T08:16:25.658487Z",
     "shell.execute_reply.started": "2024-12-28T08:16:25.653008Z"
    },
    "trusted": true
   },
   "outputs": [],
   "source": [
    "def get_most_common_ingr(rows, skip=None):\n",
    "    mass_map = {}\n",
    "    count_map = {}\n",
    "    for row in rows:\n",
    "        _, ingr_data = split_data(row)\n",
    "        names = get_names(ingr_data)\n",
    "        masses = get_masses(ingr_data)\n",
    "        for i, name in enumerate(names):\n",
    "            if name == '':\n",
    "                continue\n",
    "            if name not in mass_map:\n",
    "                mass_map[name] = 0\n",
    "            mass_map[name] += masses[i]\n",
    "            if name not in count_map:\n",
    "                count_map[name] = 0\n",
    "            count_map[name] += 1\n",
    "    for item in skip:\n",
    "        if item in mass_map:\n",
    "            del mass_map[item]\n",
    "    return mass_map, count_map"
   ]
  },
  {
   "cell_type": "code",
   "execution_count": 7,
   "metadata": {
    "execution": {
     "iopub.execute_input": "2024-12-28T08:40:44.088332Z",
     "iopub.status.busy": "2024-12-28T08:40:44.087999Z",
     "iopub.status.idle": "2024-12-28T08:40:44.094494Z",
     "shell.execute_reply": "2024-12-28T08:40:44.092910Z",
     "shell.execute_reply.started": "2024-12-28T08:40:44.088307Z"
    },
    "trusted": true
   },
   "outputs": [],
   "source": [
    "def calculate_data_from_ingrs(ingrs_data):   # single shell\n",
    "    total_calories = 0\n",
    "    total_fat = 0\n",
    "    total_carb = 0\n",
    "    total_protein = 0\n",
    "    for ingr in ingrs_data:\n",
    "        total_calories += float(ingr[3])\n",
    "        total_fat += float(ingr[4])\n",
    "        total_carb += float(ingr[5])\n",
    "        total_protein += float(ingr[6])\n",
    "    return total_calories, total_fat, total_carb, total_protein"
   ]
  },
  {
   "cell_type": "code",
   "execution_count": 8,
   "metadata": {
    "execution": {
     "iopub.execute_input": "2024-12-28T08:40:50.848763Z",
     "iopub.status.busy": "2024-12-28T08:40:50.848378Z",
     "iopub.status.idle": "2024-12-28T08:40:50.857913Z",
     "shell.execute_reply": "2024-12-28T08:40:50.856295Z",
     "shell.execute_reply.started": "2024-12-28T08:40:50.848737Z"
    },
    "trusted": true
   },
   "outputs": [],
   "source": [
    "def process_row(row, class_map, top_n=None):\n",
    "    macro_data, ingr_data = split_data(row)\n",
    "    result = {\n",
    "        'id': macro_data[0],\n",
    "        'total_calories': float(macro_data[1]),\n",
    "        'total_mass':float(macro_data[2]),\n",
    "        'total_fat':float(macro_data[3]),\n",
    "        'total_carb':float(macro_data[4]),\n",
    "        'total_protein':float(macro_data[5]),\n",
    "    }\n",
    "    if result['total_calories'] == 0:\n",
    "        total_calories, total_fat, total_carb, total_protein = calculate_data_from_ingrs(ingr_data)\n",
    "        #print(total_calories, total_fat, total_carb, total_protein)\n",
    "        result['total_calories'] = total_calories\n",
    "        result['total_fat'] = total_fat\n",
    "        result['total_carb'] = total_carb\n",
    "        result['total_protein'] = total_protein\n",
    "\n",
    "    names = get_names(ingr_data)\n",
    "    masses = get_masses(ingr_data)\n",
    "    masses_percent = [item / result['total_mass'] for item in masses]\n",
    "\n",
    "    filtered_names = []\n",
    "    filtered_masses_percent = []\n",
    "    for i, name in enumerate(names):   # only items that represents at least 5% of the total mass of the meal\n",
    "        if masses_percent[i] >= 0.05:\n",
    "            filtered_names.append(name)\n",
    "            filtered_masses_percent.append(masses_percent[i])\n",
    "    asort = np.argsort(filtered_masses_percent[::-1])\n",
    "    sorted_arr = np.array(filtered_names)[asort]\n",
    "    filtered = [item for item in sorted_arr if item in class_map]\n",
    "    if top_n is not None:\n",
    "        filtered = filtered[:top_n]\n",
    "    labels = []\n",
    "    for item in filtered:\n",
    "        if item != '':\n",
    "            labels.append(item)\n",
    "    result['label'] = labels if len(labels) > 0 else np.nan\n",
    "    return result"
   ]
  },
  {
   "cell_type": "code",
   "execution_count": 9,
   "metadata": {
    "execution": {
     "iopub.execute_input": "2024-12-28T06:59:47.263785Z",
     "iopub.status.busy": "2024-12-28T06:59:47.263384Z",
     "iopub.status.idle": "2024-12-28T06:59:47.282073Z",
     "shell.execute_reply": "2024-12-28T06:59:47.280511Z",
     "shell.execute_reply.started": "2024-12-28T06:59:47.263755Z"
    },
    "trusted": true
   },
   "outputs": [],
   "source": [
    "import csv\n",
    "rows = []\n",
    "with open('/home/ritushwar/Nutritional-Assistance/metadata/dish_metadata_cafe1.csv') as f:\n",
    "    csvreader = csv.reader(f)\n",
    "    for row in csvreader:\n",
    "        filtered_row = [value for value in row if value.strip()]\n",
    "        rows.append(filtered_row)\n",
    "with open('/home/ritushwar/Nutritional-Assistance/metadata/dish_metadata_cafe2.csv') as f:\n",
    "    csvreader = csv.reader(f)\n",
    "    for row in csvreader:\n",
    "        filtered_row = [value for value in row if value.strip()]\n",
    "        rows.append(filtered_row)"
   ]
  },
  {
   "cell_type": "code",
   "execution_count": null,
   "metadata": {},
   "outputs": [],
   "source": []
  },
  {
   "cell_type": "code",
   "execution_count": 10,
   "metadata": {},
   "outputs": [
    {
     "data": {
      "text/plain": [
       "5006"
      ]
     },
     "execution_count": 10,
     "metadata": {},
     "output_type": "execute_result"
    }
   ],
   "source": [
    "len(rows)"
   ]
  },
  {
   "cell_type": "code",
   "execution_count": null,
   "metadata": {},
   "outputs": [
    {
     "data": {
      "text/plain": [
       "\"row_index = 0\\nccnt = []\\nstep = 0\\nfor row in rows:\\n    if row_index >= 4768:\\n        row_index %= 4768\\n    else:\\n        row_index +=1\\n    for ele in row:\\n        step += 1\\n        if ele.startswith('ingr'):\\n            if step == 6:\\n                print(row_index)\\n            ccnt.append(step)\\n            step = 0\\n    step = 0 \""
      ]
     },
     "execution_count": 162,
     "metadata": {},
     "output_type": "execute_result"
    }
   ],
   "source": [
    "\"\"\"row_index = 0\n",
    "ccnt = []\n",
    "step = 0\n",
    "for row in rows:\n",
    "    if row_index >= 4768:\n",
    "        row_index %= 4768\n",
    "    else:\n",
    "        row_index +=1\n",
    "    for ele in row:\n",
    "        step += 1\n",
    "        if ele.startswith('ingr'):\n",
    "            if step == 6:\n",
    "                print(row_index)\n",
    "            ccnt.append(step)\n",
    "            step = 0\n",
    "    step = 0 \"\"\""
   ]
  },
  {
   "cell_type": "code",
   "execution_count": 11,
   "metadata": {
    "execution": {
     "iopub.execute_input": "2024-12-28T07:10:24.318924Z",
     "iopub.status.busy": "2024-12-28T07:10:24.318442Z",
     "iopub.status.idle": "2024-12-28T07:10:24.324154Z",
     "shell.execute_reply": "2024-12-28T07:10:24.322831Z",
     "shell.execute_reply.started": "2024-12-28T07:10:24.318892Z"
    },
    "trusted": true
   },
   "outputs": [],
   "source": [
    "skip = ['olive oil', 'salt', 'pepper', 'vinegar', 'coffee', 'plate only', 'vegetable oil', 'deprecated']"
   ]
  },
  {
   "cell_type": "code",
   "execution_count": 12,
   "metadata": {
    "execution": {
     "iopub.execute_input": "2024-12-28T08:16:30.801961Z",
     "iopub.status.busy": "2024-12-28T08:16:30.801573Z",
     "iopub.status.idle": "2024-12-28T08:16:30.858934Z",
     "shell.execute_reply": "2024-12-28T08:16:30.857548Z",
     "shell.execute_reply.started": "2024-12-28T08:16:30.801937Z"
    },
    "trusted": true
   },
   "outputs": [
    {
     "data": {
      "text/html": [
       "<div>\n",
       "<style scoped>\n",
       "    .dataframe tbody tr th:only-of-type {\n",
       "        vertical-align: middle;\n",
       "    }\n",
       "\n",
       "    .dataframe tbody tr th {\n",
       "        vertical-align: top;\n",
       "    }\n",
       "\n",
       "    .dataframe thead th {\n",
       "        text-align: right;\n",
       "    }\n",
       "</style>\n",
       "<table border=\"1\" class=\"dataframe\">\n",
       "  <thead>\n",
       "    <tr style=\"text-align: right;\">\n",
       "      <th></th>\n",
       "      <th>ingr</th>\n",
       "      <th>mass</th>\n",
       "      <th>count</th>\n",
       "    </tr>\n",
       "  </thead>\n",
       "  <tbody>\n",
       "    <tr>\n",
       "      <th>0</th>\n",
       "      <td>soy sauce</td>\n",
       "      <td>268.705771</td>\n",
       "      <td>123</td>\n",
       "    </tr>\n",
       "    <tr>\n",
       "      <th>1</th>\n",
       "      <td>garlic</td>\n",
       "      <td>1244.628944</td>\n",
       "      <td>1012</td>\n",
       "    </tr>\n",
       "    <tr>\n",
       "      <th>2</th>\n",
       "      <td>white rice</td>\n",
       "      <td>13030.895709</td>\n",
       "      <td>323</td>\n",
       "    </tr>\n",
       "    <tr>\n",
       "      <th>3</th>\n",
       "      <td>parsley</td>\n",
       "      <td>489.541188</td>\n",
       "      <td>523</td>\n",
       "    </tr>\n",
       "    <tr>\n",
       "      <th>4</th>\n",
       "      <td>onions</td>\n",
       "      <td>5991.911975</td>\n",
       "      <td>749</td>\n",
       "    </tr>\n",
       "    <tr>\n",
       "      <th>5</th>\n",
       "      <td>brown rice</td>\n",
       "      <td>5376.194467</td>\n",
       "      <td>239</td>\n",
       "    </tr>\n",
       "    <tr>\n",
       "      <th>6</th>\n",
       "      <td>apple</td>\n",
       "      <td>19397.623488</td>\n",
       "      <td>239</td>\n",
       "    </tr>\n",
       "    <tr>\n",
       "      <th>7</th>\n",
       "      <td>mixed greens</td>\n",
       "      <td>12893.382258</td>\n",
       "      <td>390</td>\n",
       "    </tr>\n",
       "    <tr>\n",
       "      <th>8</th>\n",
       "      <td>sugar</td>\n",
       "      <td>412.625290</td>\n",
       "      <td>50</td>\n",
       "    </tr>\n",
       "    <tr>\n",
       "      <th>9</th>\n",
       "      <td>lemon juice</td>\n",
       "      <td>862.331321</td>\n",
       "      <td>613</td>\n",
       "    </tr>\n",
       "    <tr>\n",
       "      <th>10</th>\n",
       "      <td>pork</td>\n",
       "      <td>15336.915703</td>\n",
       "      <td>183</td>\n",
       "    </tr>\n",
       "    <tr>\n",
       "      <th>11</th>\n",
       "      <td>bok choy</td>\n",
       "      <td>6434.027722</td>\n",
       "      <td>230</td>\n",
       "    </tr>\n",
       "    <tr>\n",
       "      <th>12</th>\n",
       "      <td>millet</td>\n",
       "      <td>2123.799429</td>\n",
       "      <td>184</td>\n",
       "    </tr>\n",
       "    <tr>\n",
       "      <th>13</th>\n",
       "      <td>roasted potatoes</td>\n",
       "      <td>13398.000000</td>\n",
       "      <td>189</td>\n",
       "    </tr>\n",
       "    <tr>\n",
       "      <th>14</th>\n",
       "      <td>chicken apple sausage</td>\n",
       "      <td>4092.000000</td>\n",
       "      <td>60</td>\n",
       "    </tr>\n",
       "    <tr>\n",
       "      <th>15</th>\n",
       "      <td>green beans</td>\n",
       "      <td>7074.222740</td>\n",
       "      <td>161</td>\n",
       "    </tr>\n",
       "    <tr>\n",
       "      <th>16</th>\n",
       "      <td>jalapenos</td>\n",
       "      <td>315.899705</td>\n",
       "      <td>252</td>\n",
       "    </tr>\n",
       "    <tr>\n",
       "      <th>17</th>\n",
       "      <td>wheat berry</td>\n",
       "      <td>6789.344791</td>\n",
       "      <td>307</td>\n",
       "    </tr>\n",
       "    <tr>\n",
       "      <th>18</th>\n",
       "      <td>cabbage</td>\n",
       "      <td>999.406332</td>\n",
       "      <td>80</td>\n",
       "    </tr>\n",
       "    <tr>\n",
       "      <th>19</th>\n",
       "      <td>carrot</td>\n",
       "      <td>18121.583354</td>\n",
       "      <td>526</td>\n",
       "    </tr>\n",
       "  </tbody>\n",
       "</table>\n",
       "</div>"
      ],
      "text/plain": [
       "                     ingr          mass  count\n",
       "0               soy sauce    268.705771    123\n",
       "1                  garlic   1244.628944   1012\n",
       "2              white rice  13030.895709    323\n",
       "3                 parsley    489.541188    523\n",
       "4                  onions   5991.911975    749\n",
       "5              brown rice   5376.194467    239\n",
       "6                   apple  19397.623488    239\n",
       "7            mixed greens  12893.382258    390\n",
       "8                   sugar    412.625290     50\n",
       "9             lemon juice    862.331321    613\n",
       "10                   pork  15336.915703    183\n",
       "11               bok choy   6434.027722    230\n",
       "12                 millet   2123.799429    184\n",
       "13       roasted potatoes  13398.000000    189\n",
       "14  chicken apple sausage   4092.000000     60\n",
       "15            green beans   7074.222740    161\n",
       "16              jalapenos    315.899705    252\n",
       "17            wheat berry   6789.344791    307\n",
       "18                cabbage    999.406332     80\n",
       "19                 carrot  18121.583354    526"
      ]
     },
     "execution_count": 12,
     "metadata": {},
     "output_type": "execute_result"
    }
   ],
   "source": [
    "n = 75\n",
    "mass_map, count_map = get_most_common_ingr(rows, skip)\n",
    "mass_df = pd.DataFrame(mass_map.items(), columns=['ingr','mass']).set_index('ingr')\n",
    "count_df = pd.DataFrame(count_map.items(), columns=['ingr', 'count']).set_index('ingr')\n",
    "ingredients_df = mass_df.join(count_df).reset_index()\n",
    "ingredients_df.head(20)"
   ]
  },
  {
   "cell_type": "code",
   "execution_count": 13,
   "metadata": {
    "execution": {
     "iopub.execute_input": "2024-12-28T08:28:22.778090Z",
     "iopub.status.busy": "2024-12-28T08:28:22.777747Z",
     "iopub.status.idle": "2024-12-28T08:28:22.795892Z",
     "shell.execute_reply": "2024-12-28T08:28:22.794481Z",
     "shell.execute_reply.started": "2024-12-28T08:28:22.778067Z"
    },
    "trusted": true
   },
   "outputs": [
    {
     "data": {
      "text/html": [
       "<div>\n",
       "<style scoped>\n",
       "    .dataframe tbody tr th:only-of-type {\n",
       "        vertical-align: middle;\n",
       "    }\n",
       "\n",
       "    .dataframe tbody tr th {\n",
       "        vertical-align: top;\n",
       "    }\n",
       "\n",
       "    .dataframe thead th {\n",
       "        text-align: right;\n",
       "    }\n",
       "</style>\n",
       "<table border=\"1\" class=\"dataframe\">\n",
       "  <thead>\n",
       "    <tr style=\"text-align: right;\">\n",
       "      <th></th>\n",
       "      <th>ingr</th>\n",
       "      <th>mass</th>\n",
       "      <th>count</th>\n",
       "      <th>mass_weight</th>\n",
       "      <th>count_weight</th>\n",
       "    </tr>\n",
       "  </thead>\n",
       "  <tbody>\n",
       "    <tr>\n",
       "      <th>36</th>\n",
       "      <td>egg whites</td>\n",
       "      <td>47794.333297</td>\n",
       "      <td>200</td>\n",
       "      <td>1.000000</td>\n",
       "      <td>3.745000</td>\n",
       "    </tr>\n",
       "    <tr>\n",
       "      <th>48</th>\n",
       "      <td>chicken</td>\n",
       "      <td>46796.594974</td>\n",
       "      <td>400</td>\n",
       "      <td>1.021321</td>\n",
       "      <td>1.872500</td>\n",
       "    </tr>\n",
       "    <tr>\n",
       "      <th>33</th>\n",
       "      <td>scrambled eggs</td>\n",
       "      <td>39772.309517</td>\n",
       "      <td>331</td>\n",
       "      <td>1.201699</td>\n",
       "      <td>2.262840</td>\n",
       "    </tr>\n",
       "    <tr>\n",
       "      <th>81</th>\n",
       "      <td>olives</td>\n",
       "      <td>37301.340391</td>\n",
       "      <td>297</td>\n",
       "      <td>1.281303</td>\n",
       "      <td>2.521886</td>\n",
       "    </tr>\n",
       "    <tr>\n",
       "      <th>39</th>\n",
       "      <td>cauliflower</td>\n",
       "      <td>29629.891235</td>\n",
       "      <td>340</td>\n",
       "      <td>1.613045</td>\n",
       "      <td>2.202941</td>\n",
       "    </tr>\n",
       "  </tbody>\n",
       "</table>\n",
       "</div>"
      ],
      "text/plain": [
       "              ingr          mass  count  mass_weight  count_weight\n",
       "36      egg whites  47794.333297    200     1.000000      3.745000\n",
       "48         chicken  46796.594974    400     1.021321      1.872500\n",
       "33  scrambled eggs  39772.309517    331     1.201699      2.262840\n",
       "81          olives  37301.340391    297     1.281303      2.521886\n",
       "39     cauliflower  29629.891235    340     1.613045      2.202941"
      ]
     },
     "execution_count": 13,
     "metadata": {},
     "output_type": "execute_result"
    }
   ],
   "source": [
    "if n is not None:\n",
    "    ingredients_df = ingredients_df.nlargest(n, ['mass'])\n",
    "ingredients_df['mass_weight'] = ingredients_df['mass'].max()/ingredients_df['mass']\n",
    "ingredients_df['count_weight'] = ingredients_df['count'].max()/ingredients_df['count']\n",
    "ingredients_df.head()"
   ]
  },
  {
   "cell_type": "code",
   "execution_count": 14,
   "metadata": {
    "execution": {
     "iopub.execute_input": "2024-12-28T08:28:43.224172Z",
     "iopub.status.busy": "2024-12-28T08:28:43.223755Z",
     "iopub.status.idle": "2024-12-28T08:28:43.232023Z",
     "shell.execute_reply": "2024-12-28T08:28:43.230521Z",
     "shell.execute_reply.started": "2024-12-28T08:28:43.224144Z"
    },
    "trusted": true
   },
   "outputs": [
    {
     "data": {
      "text/plain": [
       "75"
      ]
     },
     "execution_count": 14,
     "metadata": {},
     "output_type": "execute_result"
    }
   ],
   "source": [
    "len(ingredients_df)"
   ]
  },
  {
   "cell_type": "code",
   "execution_count": 15,
   "metadata": {
    "execution": {
     "iopub.execute_input": "2024-12-28T08:31:48.934172Z",
     "iopub.status.busy": "2024-12-28T08:31:48.933774Z",
     "iopub.status.idle": "2024-12-28T08:31:48.942375Z",
     "shell.execute_reply": "2024-12-28T08:31:48.941061Z",
     "shell.execute_reply.started": "2024-12-28T08:31:48.934145Z"
    },
    "trusted": true
   },
   "outputs": [],
   "source": [
    "ingredients_df.to_csv('/home/ritushwar/Nutritional-Assistance/metadata/classes.csv')"
   ]
  },
  {
   "cell_type": "code",
   "execution_count": 16,
   "metadata": {
    "execution": {
     "iopub.execute_input": "2024-12-28T08:33:44.459337Z",
     "iopub.status.busy": "2024-12-28T08:33:44.458859Z",
     "iopub.status.idle": "2024-12-28T08:33:44.466944Z",
     "shell.execute_reply": "2024-12-28T08:33:44.465505Z",
     "shell.execute_reply.started": "2024-12-28T08:33:44.459296Z"
    },
    "trusted": true
   },
   "outputs": [
    {
     "data": {
      "text/plain": [
       "75"
      ]
     },
     "execution_count": 16,
     "metadata": {},
     "output_type": "execute_result"
    }
   ],
   "source": [
    "unique_ingredients = set(ingredients_df['ingr'])\n",
    "len(unique_ingredients)"
   ]
  },
  {
   "cell_type": "code",
   "execution_count": 17,
   "metadata": {
    "execution": {
     "iopub.execute_input": "2024-12-28T08:40:57.775357Z",
     "iopub.status.busy": "2024-12-28T08:40:57.774945Z",
     "iopub.status.idle": "2024-12-28T08:40:57.963929Z",
     "shell.execute_reply": "2024-12-28T08:40:57.962382Z",
     "shell.execute_reply.started": "2024-12-28T08:40:57.775328Z"
    },
    "trusted": true
   },
   "outputs": [],
   "source": [
    "top_n = 5\n",
    "items = []\n",
    "for row in rows:\n",
    "    processed = process_row(row, unique_ingredients, top_n)\n",
    "    items.append(processed)"
   ]
  },
  {
   "cell_type": "code",
   "execution_count": 18,
   "metadata": {
    "execution": {
     "iopub.execute_input": "2024-12-28T08:41:28.664798Z",
     "iopub.status.busy": "2024-12-28T08:41:28.664400Z",
     "iopub.status.idle": "2024-12-28T08:41:28.680200Z",
     "shell.execute_reply": "2024-12-28T08:41:28.678988Z",
     "shell.execute_reply.started": "2024-12-28T08:41:28.664768Z"
    },
    "trusted": true
   },
   "outputs": [
    {
     "data": {
      "text/plain": [
       "5006"
      ]
     },
     "execution_count": 18,
     "metadata": {},
     "output_type": "execute_result"
    }
   ],
   "source": [
    "df1 = pd.DataFrame(items)\n",
    "df1.shape[0]"
   ]
  },
  {
   "cell_type": "code",
   "execution_count": 19,
   "metadata": {
    "execution": {
     "iopub.execute_input": "2024-12-28T08:41:40.852015Z",
     "iopub.status.busy": "2024-12-28T08:41:40.851552Z",
     "iopub.status.idle": "2024-12-28T08:41:40.862648Z",
     "shell.execute_reply": "2024-12-28T08:41:40.861366Z",
     "shell.execute_reply.started": "2024-12-28T08:41:40.851984Z"
    },
    "trusted": true
   },
   "outputs": [
    {
     "data": {
      "text/plain": [
       "4770"
      ]
     },
     "execution_count": 19,
     "metadata": {},
     "output_type": "execute_result"
    }
   ],
   "source": [
    "df1 = df1.dropna()\n",
    "df1.shape[0]"
   ]
  },
  {
   "cell_type": "code",
   "execution_count": 20,
   "metadata": {},
   "outputs": [],
   "source": [
    "df1 = df1.reset_index(drop=True)"
   ]
  },
  {
   "cell_type": "code",
   "execution_count": 21,
   "metadata": {},
   "outputs": [
    {
     "name": "stdout",
     "output_type": "stream",
     "text": [
      "<class 'pandas.core.frame.DataFrame'>\n",
      "RangeIndex: 4770 entries, 0 to 4769\n",
      "Data columns (total 7 columns):\n",
      " #   Column          Non-Null Count  Dtype  \n",
      "---  ------          --------------  -----  \n",
      " 0   id              4770 non-null   object \n",
      " 1   total_calories  4770 non-null   float64\n",
      " 2   total_mass      4770 non-null   float64\n",
      " 3   total_fat       4770 non-null   float64\n",
      " 4   total_carb      4770 non-null   float64\n",
      " 5   total_protein   4770 non-null   float64\n",
      " 6   label           4770 non-null   object \n",
      "dtypes: float64(5), object(2)\n",
      "memory usage: 261.0+ KB\n"
     ]
    }
   ],
   "source": [
    "df1.info()"
   ]
  },
  {
   "cell_type": "code",
   "execution_count": 22,
   "metadata": {
    "execution": {
     "iopub.execute_input": "2024-12-28T08:41:48.581076Z",
     "iopub.status.busy": "2024-12-28T08:41:48.580676Z",
     "iopub.status.idle": "2024-12-28T08:41:48.595827Z",
     "shell.execute_reply": "2024-12-28T08:41:48.594749Z",
     "shell.execute_reply.started": "2024-12-28T08:41:48.581041Z"
    },
    "trusted": true
   },
   "outputs": [
    {
     "data": {
      "text/html": [
       "<div>\n",
       "<style scoped>\n",
       "    .dataframe tbody tr th:only-of-type {\n",
       "        vertical-align: middle;\n",
       "    }\n",
       "\n",
       "    .dataframe tbody tr th {\n",
       "        vertical-align: top;\n",
       "    }\n",
       "\n",
       "    .dataframe thead th {\n",
       "        text-align: right;\n",
       "    }\n",
       "</style>\n",
       "<table border=\"1\" class=\"dataframe\">\n",
       "  <thead>\n",
       "    <tr style=\"text-align: right;\">\n",
       "      <th></th>\n",
       "      <th>id</th>\n",
       "      <th>total_calories</th>\n",
       "      <th>total_mass</th>\n",
       "      <th>total_fat</th>\n",
       "      <th>total_carb</th>\n",
       "      <th>total_protein</th>\n",
       "      <th>label</th>\n",
       "    </tr>\n",
       "  </thead>\n",
       "  <tbody>\n",
       "    <tr>\n",
       "      <th>0</th>\n",
       "      <td>dish_1561662216</td>\n",
       "      <td>300.794281</td>\n",
       "      <td>193.0</td>\n",
       "      <td>12.387489</td>\n",
       "      <td>28.218290</td>\n",
       "      <td>18.633970</td>\n",
       "      <td>[mixed greens, brown rice, pork]</td>\n",
       "    </tr>\n",
       "    <tr>\n",
       "      <th>1</th>\n",
       "      <td>dish_1562688426</td>\n",
       "      <td>137.569992</td>\n",
       "      <td>88.0</td>\n",
       "      <td>8.256000</td>\n",
       "      <td>5.190000</td>\n",
       "      <td>10.297000</td>\n",
       "      <td>[chicken apple sausage, roasted potatoes]</td>\n",
       "    </tr>\n",
       "    <tr>\n",
       "      <th>2</th>\n",
       "      <td>dish_1561662054</td>\n",
       "      <td>419.438782</td>\n",
       "      <td>292.0</td>\n",
       "      <td>23.838249</td>\n",
       "      <td>26.351543</td>\n",
       "      <td>25.910593</td>\n",
       "      <td>[mixed greens, pork, apple, green beans]</td>\n",
       "    </tr>\n",
       "    <tr>\n",
       "      <th>3</th>\n",
       "      <td>dish_1562008979</td>\n",
       "      <td>382.936646</td>\n",
       "      <td>290.0</td>\n",
       "      <td>22.224644</td>\n",
       "      <td>10.173570</td>\n",
       "      <td>35.345387</td>\n",
       "      <td>[wheat berry, caesar salad, pork]</td>\n",
       "    </tr>\n",
       "    <tr>\n",
       "      <th>4</th>\n",
       "      <td>dish_1560455030</td>\n",
       "      <td>20.590000</td>\n",
       "      <td>103.0</td>\n",
       "      <td>0.148000</td>\n",
       "      <td>4.625000</td>\n",
       "      <td>0.956000</td>\n",
       "      <td>[cherry tomatoes, cucumbers]</td>\n",
       "    </tr>\n",
       "  </tbody>\n",
       "</table>\n",
       "</div>"
      ],
      "text/plain": [
       "                id  total_calories  total_mass  total_fat  total_carb  \\\n",
       "0  dish_1561662216      300.794281       193.0  12.387489   28.218290   \n",
       "1  dish_1562688426      137.569992        88.0   8.256000    5.190000   \n",
       "2  dish_1561662054      419.438782       292.0  23.838249   26.351543   \n",
       "3  dish_1562008979      382.936646       290.0  22.224644   10.173570   \n",
       "4  dish_1560455030       20.590000       103.0   0.148000    4.625000   \n",
       "\n",
       "   total_protein                                      label  \n",
       "0      18.633970           [mixed greens, brown rice, pork]  \n",
       "1      10.297000  [chicken apple sausage, roasted potatoes]  \n",
       "2      25.910593   [mixed greens, pork, apple, green beans]  \n",
       "3      35.345387          [wheat berry, caesar salad, pork]  \n",
       "4       0.956000               [cherry tomatoes, cucumbers]  "
      ]
     },
     "execution_count": 22,
     "metadata": {},
     "output_type": "execute_result"
    }
   ],
   "source": [
    "df1.head()"
   ]
  },
  {
   "cell_type": "code",
   "execution_count": 23,
   "metadata": {},
   "outputs": [],
   "source": [
    "df1.to_csv('/home/ritushwar/Nutritional-Assistance/metadata/dish_meta_data.csv', index=False)"
   ]
  },
  {
   "cell_type": "code",
   "execution_count": 24,
   "metadata": {},
   "outputs": [
    {
     "data": {
      "text/html": [
       "<div>\n",
       "<style scoped>\n",
       "    .dataframe tbody tr th:only-of-type {\n",
       "        vertical-align: middle;\n",
       "    }\n",
       "\n",
       "    .dataframe tbody tr th {\n",
       "        vertical-align: top;\n",
       "    }\n",
       "\n",
       "    .dataframe thead th {\n",
       "        text-align: right;\n",
       "    }\n",
       "</style>\n",
       "<table border=\"1\" class=\"dataframe\">\n",
       "  <thead>\n",
       "    <tr style=\"text-align: right;\">\n",
       "      <th></th>\n",
       "      <th>id</th>\n",
       "      <th>total_calories</th>\n",
       "      <th>total_mass</th>\n",
       "      <th>total_fat</th>\n",
       "      <th>total_carb</th>\n",
       "      <th>total_protein</th>\n",
       "      <th>label</th>\n",
       "    </tr>\n",
       "  </thead>\n",
       "  <tbody>\n",
       "    <tr>\n",
       "      <th>0</th>\n",
       "      <td>dish_1561662216</td>\n",
       "      <td>300.794281</td>\n",
       "      <td>193.0</td>\n",
       "      <td>12.387489</td>\n",
       "      <td>28.218290</td>\n",
       "      <td>18.633970</td>\n",
       "      <td>[np.str_('mixed greens'), np.str_('brown rice'...</td>\n",
       "    </tr>\n",
       "    <tr>\n",
       "      <th>1</th>\n",
       "      <td>dish_1562688426</td>\n",
       "      <td>137.569992</td>\n",
       "      <td>88.0</td>\n",
       "      <td>8.256000</td>\n",
       "      <td>5.190000</td>\n",
       "      <td>10.297000</td>\n",
       "      <td>[np.str_('chicken apple sausage'), np.str_('ro...</td>\n",
       "    </tr>\n",
       "    <tr>\n",
       "      <th>2</th>\n",
       "      <td>dish_1561662054</td>\n",
       "      <td>419.438782</td>\n",
       "      <td>292.0</td>\n",
       "      <td>23.838249</td>\n",
       "      <td>26.351543</td>\n",
       "      <td>25.910593</td>\n",
       "      <td>[np.str_('mixed greens'), np.str_('pork'), np....</td>\n",
       "    </tr>\n",
       "    <tr>\n",
       "      <th>3</th>\n",
       "      <td>dish_1562008979</td>\n",
       "      <td>382.936646</td>\n",
       "      <td>290.0</td>\n",
       "      <td>22.224644</td>\n",
       "      <td>10.173570</td>\n",
       "      <td>35.345387</td>\n",
       "      <td>[np.str_('wheat berry'), np.str_('caesar salad...</td>\n",
       "    </tr>\n",
       "    <tr>\n",
       "      <th>4</th>\n",
       "      <td>dish_1560455030</td>\n",
       "      <td>20.590000</td>\n",
       "      <td>103.0</td>\n",
       "      <td>0.148000</td>\n",
       "      <td>4.625000</td>\n",
       "      <td>0.956000</td>\n",
       "      <td>[np.str_('cherry tomatoes'), np.str_('cucumber...</td>\n",
       "    </tr>\n",
       "  </tbody>\n",
       "</table>\n",
       "</div>"
      ],
      "text/plain": [
       "                id  total_calories  total_mass  total_fat  total_carb  \\\n",
       "0  dish_1561662216      300.794281       193.0  12.387489   28.218290   \n",
       "1  dish_1562688426      137.569992        88.0   8.256000    5.190000   \n",
       "2  dish_1561662054      419.438782       292.0  23.838249   26.351543   \n",
       "3  dish_1562008979      382.936646       290.0  22.224644   10.173570   \n",
       "4  dish_1560455030       20.590000       103.0   0.148000    4.625000   \n",
       "\n",
       "   total_protein                                              label  \n",
       "0      18.633970  [np.str_('mixed greens'), np.str_('brown rice'...  \n",
       "1      10.297000  [np.str_('chicken apple sausage'), np.str_('ro...  \n",
       "2      25.910593  [np.str_('mixed greens'), np.str_('pork'), np....  \n",
       "3      35.345387  [np.str_('wheat berry'), np.str_('caesar salad...  \n",
       "4       0.956000  [np.str_('cherry tomatoes'), np.str_('cucumber...  "
      ]
     },
     "execution_count": 24,
     "metadata": {},
     "output_type": "execute_result"
    }
   ],
   "source": [
    "df = pd.read_csv(\"/home/ritushwar/Nutritional-Assistance/metadata/dish_meta_data.csv\")\n",
    "df.head(5)"
   ]
  },
  {
   "cell_type": "code",
   "execution_count": 25,
   "metadata": {},
   "outputs": [
    {
     "name": "stdout",
     "output_type": "stream",
     "text": [
      "<class 'pandas.core.frame.DataFrame'>\n",
      "RangeIndex: 4770 entries, 0 to 4769\n",
      "Data columns (total 7 columns):\n",
      " #   Column          Non-Null Count  Dtype  \n",
      "---  ------          --------------  -----  \n",
      " 0   id              4770 non-null   object \n",
      " 1   total_calories  4770 non-null   float64\n",
      " 2   total_mass      4770 non-null   float64\n",
      " 3   total_fat       4770 non-null   float64\n",
      " 4   total_carb      4770 non-null   float64\n",
      " 5   total_protein   4770 non-null   float64\n",
      " 6   label           4770 non-null   object \n",
      "dtypes: float64(5), object(2)\n",
      "memory usage: 261.0+ KB\n"
     ]
    }
   ],
   "source": [
    "df.info()"
   ]
  },
  {
   "cell_type": "code",
   "execution_count": 3,
   "metadata": {},
   "outputs": [],
   "source": [
    "# making the list of directory in the data\n",
    "import os\n",
    "directory_list = []\n",
    "res = {}\n",
    "path = \"/home/ritushwar/Nutritional-Assistance/data\"\n",
    "for dir in os.listdir(path):\n",
    "    res = {\"id\": 0}\n",
    "    res[\"id\"] = dir\n",
    "    directory_list.append(res)"
   ]
  },
  {
   "cell_type": "code",
   "execution_count": 4,
   "metadata": {},
   "outputs": [
    {
     "data": {
      "text/plain": [
       "4571"
      ]
     },
     "execution_count": 4,
     "metadata": {},
     "output_type": "execute_result"
    }
   ],
   "source": [
    "len(directory_list)"
   ]
  },
  {
   "cell_type": "code",
   "execution_count": 5,
   "metadata": {},
   "outputs": [],
   "source": [
    "df2 = pd.DataFrame(directory_list)"
   ]
  },
  {
   "cell_type": "code",
   "execution_count": 6,
   "metadata": {},
   "outputs": [
    {
     "data": {
      "text/html": [
       "<div>\n",
       "<style scoped>\n",
       "    .dataframe tbody tr th:only-of-type {\n",
       "        vertical-align: middle;\n",
       "    }\n",
       "\n",
       "    .dataframe tbody tr th {\n",
       "        vertical-align: top;\n",
       "    }\n",
       "\n",
       "    .dataframe thead th {\n",
       "        text-align: right;\n",
       "    }\n",
       "</style>\n",
       "<table border=\"1\" class=\"dataframe\">\n",
       "  <thead>\n",
       "    <tr style=\"text-align: right;\">\n",
       "      <th></th>\n",
       "      <th>id</th>\n",
       "    </tr>\n",
       "  </thead>\n",
       "  <tbody>\n",
       "    <tr>\n",
       "      <th>0</th>\n",
       "      <td>dish_1574711589</td>\n",
       "    </tr>\n",
       "    <tr>\n",
       "      <th>1</th>\n",
       "      <td>dish_1558640593</td>\n",
       "    </tr>\n",
       "    <tr>\n",
       "      <th>2</th>\n",
       "      <td>dish_1550862993</td>\n",
       "    </tr>\n",
       "    <tr>\n",
       "      <th>3</th>\n",
       "      <td>dish_1561577731</td>\n",
       "    </tr>\n",
       "    <tr>\n",
       "      <th>4</th>\n",
       "      <td>dish_1565637504</td>\n",
       "    </tr>\n",
       "  </tbody>\n",
       "</table>\n",
       "</div>"
      ],
      "text/plain": [
       "                id\n",
       "0  dish_1574711589\n",
       "1  dish_1558640593\n",
       "2  dish_1550862993\n",
       "3  dish_1561577731\n",
       "4  dish_1565637504"
      ]
     },
     "execution_count": 6,
     "metadata": {},
     "output_type": "execute_result"
    }
   ],
   "source": [
    "df2.head(5)"
   ]
  },
  {
   "cell_type": "code",
   "execution_count": 7,
   "metadata": {},
   "outputs": [
    {
     "name": "stdout",
     "output_type": "stream",
     "text": [
      "<class 'pandas.core.frame.DataFrame'>\n",
      "RangeIndex: 4571 entries, 0 to 4570\n",
      "Data columns (total 1 columns):\n",
      " #   Column  Non-Null Count  Dtype \n",
      "---  ------  --------------  ----- \n",
      " 0   id      4571 non-null   object\n",
      "dtypes: object(1)\n",
      "memory usage: 35.8+ KB\n"
     ]
    }
   ],
   "source": [
    "df2.info()"
   ]
  },
  {
   "cell_type": "code",
   "execution_count": 8,
   "metadata": {},
   "outputs": [],
   "source": [
    "df2.to_csv(\"/home/ritushwar/Nutritional-Assistance/metadata/dish_id.csv\",index=False)"
   ]
  },
  {
   "cell_type": "code",
   "execution_count": 32,
   "metadata": {},
   "outputs": [
    {
     "name": "stdout",
     "output_type": "stream",
     "text": [
      "<class 'pandas.core.frame.DataFrame'>\n",
      "RangeIndex: 4770 entries, 0 to 4769\n",
      "Data columns (total 7 columns):\n",
      " #   Column          Non-Null Count  Dtype  \n",
      "---  ------          --------------  -----  \n",
      " 0   id              4770 non-null   object \n",
      " 1   total_calories  4770 non-null   float64\n",
      " 2   total_mass      4770 non-null   float64\n",
      " 3   total_fat       4770 non-null   float64\n",
      " 4   total_carb      4770 non-null   float64\n",
      " 5   total_protein   4770 non-null   float64\n",
      " 6   label           4770 non-null   object \n",
      "dtypes: float64(5), object(2)\n",
      "memory usage: 261.0+ KB\n"
     ]
    }
   ],
   "source": [
    "df1.info()"
   ]
  },
  {
   "cell_type": "code",
   "execution_count": 34,
   "metadata": {},
   "outputs": [
    {
     "data": {
      "text/html": [
       "<div>\n",
       "<style scoped>\n",
       "    .dataframe tbody tr th:only-of-type {\n",
       "        vertical-align: middle;\n",
       "    }\n",
       "\n",
       "    .dataframe tbody tr th {\n",
       "        vertical-align: top;\n",
       "    }\n",
       "\n",
       "    .dataframe thead th {\n",
       "        text-align: right;\n",
       "    }\n",
       "</style>\n",
       "<table border=\"1\" class=\"dataframe\">\n",
       "  <thead>\n",
       "    <tr style=\"text-align: right;\">\n",
       "      <th></th>\n",
       "      <th>id</th>\n",
       "      <th>total_calories</th>\n",
       "      <th>total_mass</th>\n",
       "      <th>total_fat</th>\n",
       "      <th>total_carb</th>\n",
       "      <th>total_protein</th>\n",
       "      <th>label</th>\n",
       "    </tr>\n",
       "  </thead>\n",
       "  <tbody>\n",
       "    <tr>\n",
       "      <th>0</th>\n",
       "      <td>dish_1561662216</td>\n",
       "      <td>300.794281</td>\n",
       "      <td>193.0</td>\n",
       "      <td>12.387489</td>\n",
       "      <td>28.218290</td>\n",
       "      <td>18.633970</td>\n",
       "      <td>[mixed greens, brown rice, pork]</td>\n",
       "    </tr>\n",
       "    <tr>\n",
       "      <th>1</th>\n",
       "      <td>dish_1562688426</td>\n",
       "      <td>137.569992</td>\n",
       "      <td>88.0</td>\n",
       "      <td>8.256000</td>\n",
       "      <td>5.190000</td>\n",
       "      <td>10.297000</td>\n",
       "      <td>[chicken apple sausage, roasted potatoes]</td>\n",
       "    </tr>\n",
       "    <tr>\n",
       "      <th>2</th>\n",
       "      <td>dish_1561662054</td>\n",
       "      <td>419.438782</td>\n",
       "      <td>292.0</td>\n",
       "      <td>23.838249</td>\n",
       "      <td>26.351543</td>\n",
       "      <td>25.910593</td>\n",
       "      <td>[mixed greens, pork, apple, green beans]</td>\n",
       "    </tr>\n",
       "    <tr>\n",
       "      <th>3</th>\n",
       "      <td>dish_1562008979</td>\n",
       "      <td>382.936646</td>\n",
       "      <td>290.0</td>\n",
       "      <td>22.224644</td>\n",
       "      <td>10.173570</td>\n",
       "      <td>35.345387</td>\n",
       "      <td>[wheat berry, caesar salad, pork]</td>\n",
       "    </tr>\n",
       "    <tr>\n",
       "      <th>4</th>\n",
       "      <td>dish_1560455030</td>\n",
       "      <td>20.590000</td>\n",
       "      <td>103.0</td>\n",
       "      <td>0.148000</td>\n",
       "      <td>4.625000</td>\n",
       "      <td>0.956000</td>\n",
       "      <td>[cherry tomatoes, cucumbers]</td>\n",
       "    </tr>\n",
       "  </tbody>\n",
       "</table>\n",
       "</div>"
      ],
      "text/plain": [
       "                id  total_calories  total_mass  total_fat  total_carb  \\\n",
       "0  dish_1561662216      300.794281       193.0  12.387489   28.218290   \n",
       "1  dish_1562688426      137.569992        88.0   8.256000    5.190000   \n",
       "2  dish_1561662054      419.438782       292.0  23.838249   26.351543   \n",
       "3  dish_1562008979      382.936646       290.0  22.224644   10.173570   \n",
       "4  dish_1560455030       20.590000       103.0   0.148000    4.625000   \n",
       "\n",
       "   total_protein                                      label  \n",
       "0      18.633970           [mixed greens, brown rice, pork]  \n",
       "1      10.297000  [chicken apple sausage, roasted potatoes]  \n",
       "2      25.910593   [mixed greens, pork, apple, green beans]  \n",
       "3      35.345387          [wheat berry, caesar salad, pork]  \n",
       "4       0.956000               [cherry tomatoes, cucumbers]  "
      ]
     },
     "execution_count": 34,
     "metadata": {},
     "output_type": "execute_result"
    }
   ],
   "source": [
    "df1.head(5)"
   ]
  },
  {
   "cell_type": "code",
   "execution_count": 35,
   "metadata": {},
   "outputs": [
    {
     "data": {
      "text/plain": [
       "'dish_1561662216'"
      ]
     },
     "execution_count": 35,
     "metadata": {},
     "output_type": "execute_result"
    }
   ],
   "source": [
    "df1.iloc[0,0]   # row, column"
   ]
  },
  {
   "cell_type": "code",
   "execution_count": 36,
   "metadata": {},
   "outputs": [
    {
     "data": {
      "text/plain": [
       "4770"
      ]
     },
     "execution_count": 36,
     "metadata": {},
     "output_type": "execute_result"
    }
   ],
   "source": [
    "df1.shape[0]"
   ]
  },
  {
   "cell_type": "code",
   "execution_count": 37,
   "metadata": {},
   "outputs": [],
   "source": [
    "import os\n",
    "directory_list = []\n",
    "path = \"/home/ritushwar/Nutritional-Assistance/data\"\n",
    "for dir in os.listdir(path):\n",
    "    directory_list.append(dir)"
   ]
  },
  {
   "cell_type": "code",
   "execution_count": 38,
   "metadata": {},
   "outputs": [
    {
     "data": {
      "text/plain": [
       "4571"
      ]
     },
     "execution_count": 38,
     "metadata": {},
     "output_type": "execute_result"
    }
   ],
   "source": [
    "len(directory_list)"
   ]
  },
  {
   "cell_type": "code",
   "execution_count": 39,
   "metadata": {},
   "outputs": [],
   "source": [
    "iy, ino = 0, 0\n",
    "empty_indx = []\n",
    "for ro_no in range(df1.shape[0]):\n",
    "    id = df1.iloc[ro_no,0]\n",
    "    if id in directory_list:\n",
    "        iy +=1\n",
    "    else:\n",
    "        ino+=1\n",
    "        empty_indx.append(ro_no)"
   ]
  },
  {
   "cell_type": "code",
   "execution_count": 40,
   "metadata": {},
   "outputs": [
    {
     "name": "stdout",
     "output_type": "stream",
     "text": [
      "4571 199\n"
     ]
    }
   ],
   "source": [
    "print(iy, ino)"
   ]
  },
  {
   "cell_type": "code",
   "execution_count": 41,
   "metadata": {},
   "outputs": [
    {
     "name": "stdout",
     "output_type": "stream",
     "text": [
      "[28, 47, 66, 72, 79, 91, 104, 132, 135, 147, 202, 209, 211, 319, 328, 390, 458, 494, 528, 556, 568, 664, 667, 675, 737, 742, 752, 757, 811, 828, 829, 836, 880, 882, 907, 981, 989, 1091, 1133, 1203, 1209, 1229, 1231, 1292, 1313, 1394, 1413, 1427, 1441, 1514, 1553, 1555, 1587, 1588, 1614, 1619, 1648, 1697, 1708, 1727, 1730, 1768, 1801, 1874, 1887, 1960, 2039, 2043, 2110, 2159, 2168, 2195, 2219, 2257, 2267, 2284, 2352, 2382, 2403, 2443, 2548, 2554, 2558, 2565, 2640, 2650, 2719, 2747, 2771, 2813, 2886, 2987, 3054, 3055, 3075, 3078, 3096, 3123, 3189, 3192, 3215, 3257, 3267, 3277, 3313, 3317, 3319, 3334, 3377, 3383, 3434, 3483, 3514, 3564, 3594, 3608, 3642, 3657, 3671, 3688, 3698, 3723, 3759, 3768, 3796, 3834, 3877, 3880, 3934, 3952, 3965, 4024, 4059, 4061, 4097, 4130, 4142, 4143, 4208, 4238, 4271, 4285, 4286, 4287, 4294, 4303, 4310, 4363, 4386, 4426, 4438, 4514, 4518, 4542, 4557, 4576, 4579, 4581, 4584, 4588, 4590, 4600, 4603, 4605, 4607, 4609, 4613, 4620, 4627, 4637, 4639, 4644, 4650, 4663, 4664, 4667, 4672, 4681, 4685, 4693, 4697, 4700, 4701, 4704, 4713, 4720, 4723, 4724, 4729, 4731, 4740, 4741, 4743, 4755, 4758, 4761, 4762, 4763, 4764]\n",
      "199\n"
     ]
    }
   ],
   "source": [
    "print(empty_indx)\n",
    "print(len(empty_indx))"
   ]
  },
  {
   "cell_type": "code",
   "execution_count": 42,
   "metadata": {},
   "outputs": [],
   "source": [
    "for i in empty_indx:\n",
    "    df1 = df1.drop(index=i)"
   ]
  },
  {
   "cell_type": "code",
   "execution_count": 43,
   "metadata": {},
   "outputs": [
    {
     "name": "stdout",
     "output_type": "stream",
     "text": [
      "<class 'pandas.core.frame.DataFrame'>\n",
      "Index: 4571 entries, 0 to 4769\n",
      "Data columns (total 7 columns):\n",
      " #   Column          Non-Null Count  Dtype  \n",
      "---  ------          --------------  -----  \n",
      " 0   id              4571 non-null   object \n",
      " 1   total_calories  4571 non-null   float64\n",
      " 2   total_mass      4571 non-null   float64\n",
      " 3   total_fat       4571 non-null   float64\n",
      " 4   total_carb      4571 non-null   float64\n",
      " 5   total_protein   4571 non-null   float64\n",
      " 6   label           4571 non-null   object \n",
      "dtypes: float64(5), object(2)\n",
      "memory usage: 285.7+ KB\n"
     ]
    }
   ],
   "source": [
    "df1.reset_index(drop=True)\n",
    "df1.info()"
   ]
  },
  {
   "cell_type": "code",
   "execution_count": 44,
   "metadata": {},
   "outputs": [],
   "source": [
    "df1.to_csv(\"/home/ritushwar/Nutritional-Assistance/metadata/dish_meta_data.csv\",index=False)"
   ]
  },
  {
   "cell_type": "code",
   "execution_count": 45,
   "metadata": {},
   "outputs": [],
   "source": [
    "iy, ino = 0, 0\n",
    "empty_indx = []\n",
    "for ro_no in range(df1.shape[0]):\n",
    "    id = df1.iloc[ro_no,0]\n",
    "    if id in directory_list:\n",
    "        iy +=1\n",
    "    else:\n",
    "        ino+=1\n",
    "        empty_indx.append(ro_no)"
   ]
  },
  {
   "cell_type": "code",
   "execution_count": 46,
   "metadata": {},
   "outputs": [
    {
     "name": "stdout",
     "output_type": "stream",
     "text": [
      "4571 0\n"
     ]
    }
   ],
   "source": [
    "print(iy, ino)"
   ]
  },
  {
   "cell_type": "code",
   "execution_count": 47,
   "metadata": {},
   "outputs": [
    {
     "data": {
      "text/html": [
       "<div>\n",
       "<style scoped>\n",
       "    .dataframe tbody tr th:only-of-type {\n",
       "        vertical-align: middle;\n",
       "    }\n",
       "\n",
       "    .dataframe tbody tr th {\n",
       "        vertical-align: top;\n",
       "    }\n",
       "\n",
       "    .dataframe thead th {\n",
       "        text-align: right;\n",
       "    }\n",
       "</style>\n",
       "<table border=\"1\" class=\"dataframe\">\n",
       "  <thead>\n",
       "    <tr style=\"text-align: right;\">\n",
       "      <th></th>\n",
       "      <th>id</th>\n",
       "      <th>total_calories</th>\n",
       "      <th>total_mass</th>\n",
       "      <th>total_fat</th>\n",
       "      <th>total_carb</th>\n",
       "      <th>total_protein</th>\n",
       "      <th>label</th>\n",
       "    </tr>\n",
       "  </thead>\n",
       "  <tbody>\n",
       "    <tr>\n",
       "      <th>0</th>\n",
       "      <td>dish_1561662216</td>\n",
       "      <td>300.794281</td>\n",
       "      <td>193.0</td>\n",
       "      <td>12.387489</td>\n",
       "      <td>28.218290</td>\n",
       "      <td>18.633970</td>\n",
       "      <td>[mixed greens, brown rice, pork]</td>\n",
       "    </tr>\n",
       "    <tr>\n",
       "      <th>1</th>\n",
       "      <td>dish_1562688426</td>\n",
       "      <td>137.569992</td>\n",
       "      <td>88.0</td>\n",
       "      <td>8.256000</td>\n",
       "      <td>5.190000</td>\n",
       "      <td>10.297000</td>\n",
       "      <td>[chicken apple sausage, roasted potatoes]</td>\n",
       "    </tr>\n",
       "    <tr>\n",
       "      <th>2</th>\n",
       "      <td>dish_1561662054</td>\n",
       "      <td>419.438782</td>\n",
       "      <td>292.0</td>\n",
       "      <td>23.838249</td>\n",
       "      <td>26.351543</td>\n",
       "      <td>25.910593</td>\n",
       "      <td>[mixed greens, pork, apple, green beans]</td>\n",
       "    </tr>\n",
       "    <tr>\n",
       "      <th>3</th>\n",
       "      <td>dish_1562008979</td>\n",
       "      <td>382.936646</td>\n",
       "      <td>290.0</td>\n",
       "      <td>22.224644</td>\n",
       "      <td>10.173570</td>\n",
       "      <td>35.345387</td>\n",
       "      <td>[wheat berry, caesar salad, pork]</td>\n",
       "    </tr>\n",
       "    <tr>\n",
       "      <th>4</th>\n",
       "      <td>dish_1560455030</td>\n",
       "      <td>20.590000</td>\n",
       "      <td>103.0</td>\n",
       "      <td>0.148000</td>\n",
       "      <td>4.625000</td>\n",
       "      <td>0.956000</td>\n",
       "      <td>[cherry tomatoes, cucumbers]</td>\n",
       "    </tr>\n",
       "    <tr>\n",
       "      <th>5</th>\n",
       "      <td>dish_1565640549</td>\n",
       "      <td>45.482903</td>\n",
       "      <td>139.0</td>\n",
       "      <td>1.568471</td>\n",
       "      <td>7.043886</td>\n",
       "      <td>2.641478</td>\n",
       "      <td>[tomatoes, cherry tomatoes, asparagus, arugula...</td>\n",
       "    </tr>\n",
       "    <tr>\n",
       "      <th>6</th>\n",
       "      <td>dish_1563207364</td>\n",
       "      <td>309.269989</td>\n",
       "      <td>271.0</td>\n",
       "      <td>13.774000</td>\n",
       "      <td>30.657000</td>\n",
       "      <td>15.010000</td>\n",
       "      <td>[grapes, scrambled eggs, egg whites, yam, swee...</td>\n",
       "    </tr>\n",
       "    <tr>\n",
       "      <th>7</th>\n",
       "      <td>dish_1561575474</td>\n",
       "      <td>120.058434</td>\n",
       "      <td>183.0</td>\n",
       "      <td>4.966118</td>\n",
       "      <td>17.412746</td>\n",
       "      <td>2.990431</td>\n",
       "      <td>[cauliflower, roasted potatoes, eggplant]</td>\n",
       "    </tr>\n",
       "    <tr>\n",
       "      <th>8</th>\n",
       "      <td>dish_1550795690</td>\n",
       "      <td>68.119995</td>\n",
       "      <td>131.0</td>\n",
       "      <td>0.262000</td>\n",
       "      <td>18.340000</td>\n",
       "      <td>0.393000</td>\n",
       "      <td>[apple]</td>\n",
       "    </tr>\n",
       "    <tr>\n",
       "      <th>9</th>\n",
       "      <td>dish_1563216717</td>\n",
       "      <td>246.007996</td>\n",
       "      <td>332.0</td>\n",
       "      <td>5.636517</td>\n",
       "      <td>16.284782</td>\n",
       "      <td>33.068710</td>\n",
       "      <td>[chicken breast, broccoli, honeydew melons, sq...</td>\n",
       "    </tr>\n",
       "  </tbody>\n",
       "</table>\n",
       "</div>"
      ],
      "text/plain": [
       "                id  total_calories  total_mass  total_fat  total_carb  \\\n",
       "0  dish_1561662216      300.794281       193.0  12.387489   28.218290   \n",
       "1  dish_1562688426      137.569992        88.0   8.256000    5.190000   \n",
       "2  dish_1561662054      419.438782       292.0  23.838249   26.351543   \n",
       "3  dish_1562008979      382.936646       290.0  22.224644   10.173570   \n",
       "4  dish_1560455030       20.590000       103.0   0.148000    4.625000   \n",
       "5  dish_1565640549       45.482903       139.0   1.568471    7.043886   \n",
       "6  dish_1563207364      309.269989       271.0  13.774000   30.657000   \n",
       "7  dish_1561575474      120.058434       183.0   4.966118   17.412746   \n",
       "8  dish_1550795690       68.119995       131.0   0.262000   18.340000   \n",
       "9  dish_1563216717      246.007996       332.0   5.636517   16.284782   \n",
       "\n",
       "   total_protein                                              label  \n",
       "0      18.633970                   [mixed greens, brown rice, pork]  \n",
       "1      10.297000          [chicken apple sausage, roasted potatoes]  \n",
       "2      25.910593           [mixed greens, pork, apple, green beans]  \n",
       "3      35.345387                  [wheat berry, caesar salad, pork]  \n",
       "4       0.956000                       [cherry tomatoes, cucumbers]  \n",
       "5       2.641478  [tomatoes, cherry tomatoes, asparagus, arugula...  \n",
       "6      15.010000  [grapes, scrambled eggs, egg whites, yam, swee...  \n",
       "7       2.990431          [cauliflower, roasted potatoes, eggplant]  \n",
       "8       0.393000                                            [apple]  \n",
       "9      33.068710  [chicken breast, broccoli, honeydew melons, sq...  "
      ]
     },
     "execution_count": 47,
     "metadata": {},
     "output_type": "execute_result"
    }
   ],
   "source": [
    "df1.head(10)"
   ]
  },
  {
   "cell_type": "markdown",
   "metadata": {},
   "source": [
    "## Deleting the unknown directory\n"
   ]
  },
  {
   "cell_type": "code",
   "execution_count": 48,
   "metadata": {},
   "outputs": [],
   "source": [
    "# taking all the dish id from the df1  4571\n",
    "dish_id = []\n",
    "for i in range(df1.shape[0]):\n",
    "    id = df1.iloc[i,0]\n",
    "    dish_id.append(id)"
   ]
  },
  {
   "cell_type": "code",
   "execution_count": 49,
   "metadata": {},
   "outputs": [
    {
     "name": "stdout",
     "output_type": "stream",
     "text": [
      "4571\n",
      "4571\n"
     ]
    }
   ],
   "source": [
    "print(len(dish_id))\n",
    "print(len(directory_list))"
   ]
  },
  {
   "cell_type": "code",
   "execution_count": 50,
   "metadata": {},
   "outputs": [
    {
     "data": {
      "text/plain": [
       "4571"
      ]
     },
     "execution_count": 50,
     "metadata": {},
     "output_type": "execute_result"
    }
   ],
   "source": [
    "df1.shape[0]"
   ]
  },
  {
   "cell_type": "code",
   "execution_count": 51,
   "metadata": {},
   "outputs": [],
   "source": [
    "import shutil\n",
    "a, b =0,0\n",
    "for dir in os.listdir(path):\n",
    "    if dir in dish_id:\n",
    "        a+=1\n",
    "    else:\n",
    "        #deleted this directory\n",
    "        del_dir = os.path.join(path, dir)\n",
    "        shutil.rmtree(del_dir)\n",
    "        b+=1"
   ]
  },
  {
   "cell_type": "code",
   "execution_count": 52,
   "metadata": {},
   "outputs": [
    {
     "name": "stdout",
     "output_type": "stream",
     "text": [
      "4571 0\n"
     ]
    }
   ],
   "source": [
    "print(a, b)"
   ]
  },
  {
   "cell_type": "code",
   "execution_count": 53,
   "metadata": {},
   "outputs": [
    {
     "data": {
      "text/plain": [
       "4571"
      ]
     },
     "execution_count": 53,
     "metadata": {},
     "output_type": "execute_result"
    }
   ],
   "source": [
    "len(os.listdir(path))"
   ]
  }
 ],
 "metadata": {
  "kaggle": {
   "accelerator": "none",
   "dataSources": [
    {
     "datasetId": 6384290,
     "sourceId": 10312829,
     "sourceType": "datasetVersion"
    },
    {
     "datasetId": 6386942,
     "sourceId": 10316651,
     "sourceType": "datasetVersion"
    },
    {
     "datasetId": 6386958,
     "sourceId": 10316673,
     "sourceType": "datasetVersion"
    }
   ],
   "dockerImageVersionId": 30822,
   "isGpuEnabled": false,
   "isInternetEnabled": false,
   "language": "python",
   "sourceType": "notebook"
  },
  "kernelspec": {
   "display_name": "Python (myenv)",
   "language": "python",
   "name": ".venv"
  },
  "language_info": {
   "codemirror_mode": {
    "name": "ipython",
    "version": 3
   },
   "file_extension": ".py",
   "mimetype": "text/x-python",
   "name": "python",
   "nbconvert_exporter": "python",
   "pygments_lexer": "ipython3",
   "version": "3.12.3"
  }
 },
 "nbformat": 4,
 "nbformat_minor": 4
}
